{
 "cells": [
  {
   "cell_type": "code",
   "execution_count": 31,
   "metadata": {},
   "outputs": [
    {
     "data": {
      "text/plain": [
       "'\\n题目描述\\n给定一个字符串s，最多只能进行一次变换，返回变换后能得到的最小字符串（按照字典序进行比较）。\\n\\n变换规则：交换字符串中任意两个不同位置的字符。\\n\\n输入描述\\n一串小写字母组成的字符串s\\n\\n输出描述\\n一串小写字母组成的字符串s\\n\\n备注\\ns是都是小写字符组成\\n1 ≤ s.length ≤ 1000\\n用例1\\n输入\\nabcdef\\n输出\\nabcdef\\n说明\\nabcdef已经是最小字符串，不需要交换。\\n\\n用例2\\n输入\\nbcdefa\\n输出\\nacdefb\\n说明\\na和b进行位置交换，可以得到最小字符串\\n'"
      ]
     },
     "execution_count": 31,
     "metadata": {},
     "output_type": "execute_result"
    }
   ],
   "source": [
    "\"\"\"\n",
    "题目描述\n",
    "给定一个字符串s，最多只能进行一次变换，返回变换后能得到的最小字符串（按照字典序进行比较）。\n",
    "\n",
    "变换规则：交换字符串中任意两个不同位置的字符。\n",
    "\n",
    "输入描述\n",
    "一串小写字母组成的字符串s\n",
    "\n",
    "输出描述\n",
    "一串小写字母组成的字符串s\n",
    "\n",
    "备注\n",
    "s是都是小写字符组成\n",
    "1 ≤ s.length ≤ 1000\n",
    "用例1\n",
    "输入\n",
    "abcdef\n",
    "输出\n",
    "abcdef\n",
    "说明\n",
    "abcdef已经是最小字符串，不需要交换。\n",
    "\n",
    "用例2\n",
    "输入\n",
    "bcdefa\n",
    "输出\n",
    "acdefb\n",
    "说明\n",
    "a和b进行位置交换，可以得到最小字符串\n",
    "\"\"\""
   ]
  },
  {
   "cell_type": "code",
   "execution_count": 32,
   "metadata": {},
   "outputs": [],
   "source": [
    "s = input()"
   ]
  },
  {
   "cell_type": "code",
   "execution_count": 33,
   "metadata": {},
   "outputs": [
    {
     "data": {
      "text/plain": [
       "'abcdef'"
      ]
     },
     "execution_count": 33,
     "metadata": {},
     "output_type": "execute_result"
    }
   ],
   "source": [
    "s"
   ]
  },
  {
   "cell_type": "code",
   "execution_count": 34,
   "metadata": {},
   "outputs": [],
   "source": [
    "def main(s):\n",
    "    s_lst = list(s)\n",
    "    s_lst_min = sorted(s_lst)\n",
    "    print(s_lst)\n",
    "    print(s_lst_min)\n",
    "    temp = []\n",
    "    for idx, v in enumerate(s_lst):\n",
    "        if v != s_lst_min[idx]:\n",
    "            temp.append(idx)\n",
    "            for idx_r, v_r in enumerate(s_lst[::-1]):\n",
    "                if v_r == s_lst_min[idx]:\n",
    "                    temp.append(len(s_lst)-idx_r-1)\n",
    "                    break\n",
    "            break\n",
    "    if len(temp) != 0:\n",
    "        temp_f, temp_l = s_lst[temp[0]], s_lst[temp[1]]\n",
    "        s_lst[temp[0]] = temp_l\n",
    "        s_lst[temp[1]] = temp_f\n",
    "        return s_lst\n",
    "    else:\n",
    "        return s_lst\n",
    "\n",
    "\n",
    "\n",
    "    "
   ]
  },
  {
   "cell_type": "code",
   "execution_count": 35,
   "metadata": {},
   "outputs": [
    {
     "name": "stdout",
     "output_type": "stream",
     "text": [
      "['a', 'b', 'c', 'd', 'e', 'f']\n",
      "['a', 'b', 'c', 'd', 'e', 'f']\n"
     ]
    },
    {
     "data": {
      "text/plain": [
       "['a', 'b', 'c', 'd', 'e', 'f']"
      ]
     },
     "execution_count": 35,
     "metadata": {},
     "output_type": "execute_result"
    }
   ],
   "source": [
    "main(s)"
   ]
  },
  {
   "cell_type": "code",
   "execution_count": 36,
   "metadata": {},
   "outputs": [
    {
     "data": {
      "text/plain": [
       "['a', 'f', 'e', 'd', 'c', 'b']"
      ]
     },
     "execution_count": 36,
     "metadata": {},
     "output_type": "execute_result"
    }
   ],
   "source": [
    "a =['b', 'c', 'd', 'e', 'f', 'a']\n",
    "a[::-1]"
   ]
  },
  {
   "cell_type": "code",
   "execution_count": null,
   "metadata": {},
   "outputs": [],
   "source": []
  }
 ],
 "metadata": {
  "kernelspec": {
   "display_name": "pp",
   "language": "python",
   "name": "python3"
  },
  "language_info": {
   "codemirror_mode": {
    "name": "ipython",
    "version": 3
   },
   "file_extension": ".py",
   "mimetype": "text/x-python",
   "name": "python",
   "nbconvert_exporter": "python",
   "pygments_lexer": "ipython3",
   "version": "3.8.18"
  }
 },
 "nbformat": 4,
 "nbformat_minor": 2
}
