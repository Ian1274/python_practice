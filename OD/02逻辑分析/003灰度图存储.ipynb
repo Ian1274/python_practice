{
 "cells": [
  {
   "cell_type": "code",
   "execution_count": null,
   "metadata": {},
   "outputs": [],
   "source": [
    "'''\n",
    "题目描述\n",
    "黑白图像常采用灰度图的方式存储，即图像的每个像素填充一个灰色阶段值，256阶灰图是一个灰阶值取值范围为 0~255 的灰阶矩阵，0表示全黑，255表示全白，范围内的其他值表示不同的灰度。\n",
    "\n",
    "但在计算机中实际存储时，会使用压缩算法，其中一个种压缩格式描述如如下：\n",
    "\n",
    "10 10 255 34 0 1 255 8 0 3 255 6 0 5 255 4 0 7 255 2 0 9 255 21\n",
    "\n",
    "所有的数值以空格分隔；\n",
    "前两个数分别表示矩阵的行数和列数；\n",
    "从第三个数开始，每两个数一组，每组第一个数是灰阶值，第二个数表示该灰阶值从左到右，从上到下（可理解为二维数组按行存储在一维矩阵中）的连续像素个数。比如题目所述的例子， “255 34” 表示有连续 34 个像素的灰阶值是 255。\n",
    "如此，图像软件在打开此格式灰度图的时候，就可以根据此算法从压缩数据恢复出原始灰度图矩阵。\n",
    "\n",
    "请从输入的压缩数恢复灰度图原始矩阵，并返回指定像素的灰阶值。\n",
    "\n",
    "输入描述\n",
    "10 10 255 34 0 1 255 8 0 3 255 6 0 5 255 4 0 7 255 2 0 9 255 21 3 4\n",
    "\n",
    "输入包行两行：\n",
    "\n",
    "第一行是灰度图压缩数据\n",
    "第二行表示一个像素位置的行号和列号，如 0 0 表示左上角像素\n",
    "输出描述\n",
    "0\n",
    "\n",
    "输出数据表示的灰阶矩阵的指定像素的灰阶值。\n",
    "\n",
    "备注\n",
    "系保证输入的压缩数据是合法有效的，不会出现数据起界、数值不合法等无法恢复的场景\n",
    "系统保证输入的像素坐标是合法的，不会出现不在矩阵中的像素\n",
    "矩阵的行和列数范图为:(0,100]\n",
    "灰阶值取值范图:[0,255]\n",
    "用例1\n",
    "输入\n",
    "10 10 56 34 99 1 87 8 99 3 255 6 99 5 255 4 99 7 255 2 99 9 255 21\n",
    "3 4\n",
    "输出\n",
    "99\n",
    "说明\n",
    "将压缩数据恢复后的灰阶矩阵第3行第4列的像素灰阶值是99\n",
    "\n",
    "用例2\n",
    "输入\n",
    "10 10 255 34 0 1 255 8 0 3 255 6 0 5 255 4 0 7 255 2 0 9 255 21\n",
    "3 5\n",
    "输出\n",
    "255\n",
    "说明\n",
    "将压缩数据恢复后的灰阶矩阵第3行第5列的像案灰阶值是255\n",
    "'''"
   ]
  },
  {
   "cell_type": "code",
   "execution_count": null,
   "metadata": {},
   "outputs": [],
   "source": [
    "s = list(map(int, input().split(' ')))\n",
    "row, col = map(int, input().split(' '))"
   ]
  },
  {
   "cell_type": "code",
   "execution_count": 3,
   "metadata": {},
   "outputs": [
    {
     "data": {
      "text/plain": [
       "[10,\n",
       " 10,\n",
       " 255,\n",
       " 34,\n",
       " 0,\n",
       " 1,\n",
       " 255,\n",
       " 8,\n",
       " 0,\n",
       " 3,\n",
       " 255,\n",
       " 6,\n",
       " 0,\n",
       " 5,\n",
       " 255,\n",
       " 4,\n",
       " 0,\n",
       " 7,\n",
       " 255,\n",
       " 2,\n",
       " 0,\n",
       " 9,\n",
       " 255,\n",
       " 21]"
      ]
     },
     "execution_count": 3,
     "metadata": {},
     "output_type": "execute_result"
    }
   ],
   "source": [
    "s"
   ]
  },
  {
   "cell_type": "code",
   "execution_count": 28,
   "metadata": {},
   "outputs": [],
   "source": [
    "def main(s, row, col):\n",
    "    infos = s[2:]\n",
    "    pixels = infos[::2]\n",
    "    nums = infos[1::2]\n",
    "    # print(pixels, len(pixels))\n",
    "    # print(nums, len(nums))\n",
    "    arr = []\n",
    "    for pix, n in zip(pixels, nums):\n",
    "        arr.extend([pix]*n)\n",
    "        # arr.append([pix]*n)\n",
    "    # print(arr, len(arr))\n",
    "    index = (row) * s[0:2][0] + (col)\n",
    "    return arr[index]"
   ]
  },
  {
   "cell_type": "code",
   "execution_count": 29,
   "metadata": {},
   "outputs": [
    {
     "data": {
      "text/plain": [
       "255"
      ]
     },
     "execution_count": 29,
     "metadata": {},
     "output_type": "execute_result"
    }
   ],
   "source": [
    "main(s, row, col)"
   ]
  },
  {
   "cell_type": "code",
   "execution_count": null,
   "metadata": {},
   "outputs": [],
   "source": []
  }
 ],
 "metadata": {
  "kernelspec": {
   "display_name": "pp",
   "language": "python",
   "name": "python3"
  },
  "language_info": {
   "codemirror_mode": {
    "name": "ipython",
    "version": 3
   },
   "file_extension": ".py",
   "mimetype": "text/x-python",
   "name": "python",
   "nbconvert_exporter": "python",
   "pygments_lexer": "ipython3",
   "version": "3.8.18"
  }
 },
 "nbformat": 4,
 "nbformat_minor": 2
}
