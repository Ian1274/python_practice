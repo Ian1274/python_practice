{
 "cells": [
  {
   "cell_type": "code",
   "execution_count": null,
   "metadata": {},
   "outputs": [],
   "source": [
    "'''\n",
    "题目描述\n",
    "有一个总空间为100字节的堆，现要从中新申请一块内存，内存分配原则为：优先紧接着前一块已使用内存，分配空间足够且最接近申请大小的空闲内存。\n",
    "\n",
    "输入描述\n",
    "第1行是1个整数，表示期望申请的内存字节数\n",
    "\n",
    "第2到第N行是用空格分割的两个整数，表示当前已分配的内存的情况，每一行表示一块已分配的连续内存空间，每行的第1和第2个整数分别表示偏移地址和内存块大小，如：\n",
    "\n",
    "0 1\n",
    "\n",
    "3 2\n",
    "\n",
    "表示 0 偏移地址开始的 1 个字节和 3 偏移地址开始的 2 个字节已被分配，其余内存空闲。\n",
    "\n",
    "输出描述\n",
    "若申请成功，输出申请到内存的偏移；\n",
    "\n",
    "若申请失败，输出 -1。\n",
    "\n",
    "备注\n",
    "若输入信息不合法或无效，则申请失败\n",
    "若没有足够的空间供分配，则申请失败\n",
    "堆内存信息有区域重叠或有非法值等都是无效输入\n",
    "用例1\n",
    "输入\n",
    "1\n",
    "0 1\n",
    "3 2\n",
    "输出\n",
    "1\n",
    "说明\n",
    "堆中已使用的两块内存是偏移从0开始的1字节和偏移从3开始的2字节，空闲的两块内存是偏移从1开始2个字节和偏移从5开始95字节，根据分配原则，新申请的内存应从1开始分配1个字节，所以输出偏移为1。\n",
    "'''"
   ]
  },
  {
   "cell_type": "code",
   "execution_count": 15,
   "metadata": {},
   "outputs": [],
   "source": [
    "query = int(input())\n",
    "infos = []\n",
    "\n",
    "while True:\n",
    "    try:\n",
    "        idx, numb = map(int, input().split(' '))\n",
    "        infos.append((idx, numb))\n",
    "    except:\n",
    "        break\n"
   ]
  },
  {
   "cell_type": "code",
   "execution_count": 16,
   "metadata": {},
   "outputs": [
    {
     "data": {
      "text/plain": [
       "(2, [(3, 1), (6, 2)])"
      ]
     },
     "execution_count": 16,
     "metadata": {},
     "output_type": "execute_result"
    }
   ],
   "source": [
    "query,infos"
   ]
  },
  {
   "cell_type": "code",
   "execution_count": 17,
   "metadata": {},
   "outputs": [],
   "source": [
    "def main(query, infos):\n",
    "    memory = [0]*100\n",
    "    # 非法输入报错\n",
    "    if query <= 0 or query > 100:\n",
    "        return -1\n",
    "    # 填入占用的内存\n",
    "    for info in infos:\n",
    "        idx, numb = info\n",
    "        memory[idx:(idx+numb)] = [1]*numb\n",
    "    # print(memory)\n",
    "\n",
    "    for i in range(len(memory)):\n",
    "        # 首判断：\n",
    "        if memory[i] == 0:\n",
    "            if sum(memory[i:(i+query)]) == 0:\n",
    "                return i\n",
    "        else:\n",
    "            if memory[i] == 1 and memory[i+1] == 0:\n",
    "                if sum(memory[(i+1):(i+1+query)]) == 0:\n",
    "                    return i+1\n"
   ]
  },
  {
   "cell_type": "code",
   "execution_count": 18,
   "metadata": {},
   "outputs": [
    {
     "data": {
      "text/plain": [
       "0"
      ]
     },
     "execution_count": 18,
     "metadata": {},
     "output_type": "execute_result"
    }
   ],
   "source": [
    "main(query, infos)"
   ]
  },
  {
   "cell_type": "code",
   "execution_count": 11,
   "metadata": {},
   "outputs": [],
   "source": [
    "a = [0, 0, 0, 1, 0, 0, 1, 1]"
   ]
  },
  {
   "cell_type": "code",
   "execution_count": 12,
   "metadata": {},
   "outputs": [
    {
     "data": {
      "text/plain": [
       "0"
      ]
     },
     "execution_count": 12,
     "metadata": {},
     "output_type": "execute_result"
    }
   ],
   "source": [
    "a[-1]"
   ]
  },
  {
   "cell_type": "code",
   "execution_count": null,
   "metadata": {},
   "outputs": [],
   "source": []
  }
 ],
 "metadata": {
  "kernelspec": {
   "display_name": "pp",
   "language": "python",
   "name": "python3"
  },
  "language_info": {
   "codemirror_mode": {
    "name": "ipython",
    "version": 3
   },
   "file_extension": ".py",
   "mimetype": "text/x-python",
   "name": "python",
   "nbconvert_exporter": "python",
   "pygments_lexer": "ipython3",
   "version": "3.8.18"
  }
 },
 "nbformat": 4,
 "nbformat_minor": 2
}
