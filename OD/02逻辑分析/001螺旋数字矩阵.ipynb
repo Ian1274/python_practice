{
 "cells": [
  {
   "cell_type": "code",
   "execution_count": 133,
   "metadata": {},
   "outputs": [
    {
     "data": {
      "text/plain": [
       "'\\n疫情期间，小明隔离在家，百无聊赖，在纸上写数字玩。他发明了一种写法：\\n\\n给出数字个数 n （0 < n ≤ 999）和行数 m（0 < m ≤ 999），从左上角的 1 开始，按照顺时针螺旋向内写方式，依次写出2,3,....,n，最终形成一个 m 行矩阵。\\n\\n小明对这个矩阵有些要求：\\n\\n每行数字的个数一样多\\n列的数量尽可能少\\n填充数字时优先填充外部\\n数字不够时，使用单个 * 号占位\\n'"
      ]
     },
     "execution_count": 133,
     "metadata": {},
     "output_type": "execute_result"
    }
   ],
   "source": [
    "\"\"\"\n",
    "疫情期间，小明隔离在家，百无聊赖，在纸上写数字玩。他发明了一种写法：\n",
    "\n",
    "给出数字个数 n （0 < n ≤ 999）和行数 m（0 < m ≤ 999），从左上角的 1 开始，按照顺时针螺旋向内写方式，依次写出2,3,....,n，最终形成一个 m 行矩阵。\n",
    "\n",
    "小明对这个矩阵有些要求：\n",
    "\n",
    "每行数字的个数一样多\n",
    "列的数量尽可能少\n",
    "填充数字时优先填充外部\n",
    "数字不够时，使用单个 * 号占位\n",
    "\"\"\""
   ]
  },
  {
   "cell_type": "code",
   "execution_count": 134,
   "metadata": {},
   "outputs": [
    {
     "data": {
      "text/plain": [
       "'\\n策略：\\n1、确定几行几列\\n2、螺旋填入数字：\\n    x+1，x不变，y++\\n    y-1，y不变，x++\\n    x-1，x不变，y--\\n    y+1，y不变，x--\\n'"
      ]
     },
     "execution_count": 134,
     "metadata": {},
     "output_type": "execute_result"
    }
   ],
   "source": [
    "\"\"\"\n",
    "策略：\n",
    "1、确定几行几列\n",
    "2、螺旋填入数字：\n",
    "    x+1，x不变，y++\n",
    "    y-1，y不变，x++\n",
    "    x-1，x不变，y--\n",
    "    y+1，y不变，x--\n",
    "\"\"\""
   ]
  },
  {
   "cell_type": "code",
   "execution_count": 135,
   "metadata": {},
   "outputs": [],
   "source": [
    "import math"
   ]
  },
  {
   "cell_type": "code",
   "execution_count": 136,
   "metadata": {},
   "outputs": [],
   "source": [
    "# n, m = map(int, input().split(' '))"
   ]
  },
  {
   "cell_type": "code",
   "execution_count": 137,
   "metadata": {},
   "outputs": [
    {
     "name": "stdout",
     "output_type": "stream",
     "text": [
      "['1', '2', '3', '4', '5', '6', '7', '8', '9', '10', '11', '12', '13', '14', '15', '16', '17', '18']\n",
      "['46', '47', '48', '49', '50', '51', '52', '53', '54', '55', '56', '57', '58', '59', '60', '61', '62', '19']\n",
      "['45', '84', '85', '86', '87', '88', '89', '90', '91', '92', '93', '94', '95', '96', '97', '98', '63', '20']\n",
      "['44', '83', '114', '115', '116', '117', '118', '119', '120', '*', '*', '*', '*', '*', '*', '99', '64', '21']\n",
      "['43', '82', '113', '112', '111', '110', '109', '108', '107', '106', '105', '104', '103', '102', '101', '100', '65', '22']\n",
      "['42', '81', '80', '79', '78', '77', '76', '75', '74', '73', '72', '71', '70', '69', '68', '67', '66', '23']\n",
      "['41', '40', '39', '38', '37', '36', '35', '34', '33', '32', '31', '30', '29', '28', '27', '26', '25', '24']\n"
     ]
    }
   ],
   "source": [
    "# 9个数字，4行\n",
    "n, m = 120, 7\n",
    "# 向上取整3列\n",
    "k = int(math.ceil(n / m))\n",
    "# 初始化“*”\n",
    "metrix = [[\"*\"] * k for _ in range(m)]\n",
    "# 初始数字\n",
    "step = 1\n",
    "# 初始行列\n",
    "x, y = 1, 1\n",
    "while step <= n:\n",
    "    # x+1，x不变，y++\n",
    "    while y <= k and metrix[x-1][y-1] == '*' and step <= n:\n",
    "        metrix[x-1][y-1] = str(step)\n",
    "        step += 1\n",
    "        y += 1\n",
    "        # print(x, y)\n",
    "    x += 1\n",
    "    y -= 1\n",
    "    # print(x, y)\n",
    "    # y-1，y不变，x++\n",
    "    while x <= m and metrix[x-1][y-1] == '*' and step <= n:\n",
    "        metrix[x-1][y-1] = str(step)\n",
    "        step += 1\n",
    "        x += 1\n",
    "        # print(x, y)\n",
    "    y -= 1\n",
    "    x -= 1\n",
    "    # x-1，x不变，y--\n",
    "    while y >= 1 and metrix[x-1][y-1] == '*' and step <= n:\n",
    "        metrix[x-1][y-1] = str(step)\n",
    "        step += 1\n",
    "        y -= 1\n",
    "        # print(x, y)\n",
    "    x -= 1\n",
    "    y += 1\n",
    "    # y+1，y不变，x--\n",
    "    while x >= 1 and metrix[x-1][y-1] == '*' and step <= n:\n",
    "        metrix[x-1][y-1] = str(step)\n",
    "        step += 1\n",
    "        x -= 1\n",
    "        # print(x, y)\n",
    "    y += 1\n",
    "    x += 1\n",
    "\n",
    "for i in metrix:\n",
    "    print(i)\n",
    "\n",
    "\n",
    "\n",
    "        \n",
    "    "
   ]
  },
  {
   "cell_type": "code",
   "execution_count": null,
   "metadata": {},
   "outputs": [],
   "source": []
  },
  {
   "cell_type": "code",
   "execution_count": null,
   "metadata": {},
   "outputs": [],
   "source": []
  },
  {
   "cell_type": "code",
   "execution_count": null,
   "metadata": {},
   "outputs": [],
   "source": []
  }
 ],
 "metadata": {
  "kernelspec": {
   "display_name": "pp",
   "language": "python",
   "name": "python3"
  },
  "language_info": {
   "codemirror_mode": {
    "name": "ipython",
    "version": 3
   },
   "file_extension": ".py",
   "mimetype": "text/x-python",
   "name": "python",
   "nbconvert_exporter": "python",
   "pygments_lexer": "ipython3",
   "version": "3.8.18"
  }
 },
 "nbformat": 4,
 "nbformat_minor": 2
}
