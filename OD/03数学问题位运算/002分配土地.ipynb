{
 "cells": [
  {
   "cell_type": "code",
   "execution_count": 36,
   "metadata": {},
   "outputs": [
    {
     "data": {
      "text/plain": [
       "'\\n题目描述\\n从前有个村庄，村民们喜欢在各种田地上插上小旗子，旗子上标识了各种不同的数字。\\n\\n某天集体村民决定将覆盖相同数字的最小矩阵形的土地分配给村里做出巨大贡献的村民，请问此次分配土地，做出贡献的村民种最大会分配多大面积?\\n\\n输入描述\\n第一行输入 m 和 n，\\n\\nm 代表村子的土地的长\\nn 代表土地的宽\\n第二行开始输入地图上的具体标识\\n\\n输出描述\\n此次分配土地，做出贡献的村民种最大会分配多大面积\\n\\n备注\\n旗子上的数字为1~500，土地边长不超过500\\n未插旗子的土地用0标识\\n用例1\\n输入\\n3 3\\n1 0 1\\n0 0 0\\n0 1 0\\n输出\\n9\\n'"
      ]
     },
     "execution_count": 36,
     "metadata": {},
     "output_type": "execute_result"
    }
   ],
   "source": [
    "\"\"\"\n",
    "题目描述\n",
    "从前有个村庄，村民们喜欢在各种田地上插上小旗子，旗子上标识了各种不同的数字。\n",
    "\n",
    "某天集体村民决定将覆盖相同数字的最小矩阵形的土地分配给村里做出巨大贡献的村民，请问此次分配土地，做出贡献的村民种最大会分配多大面积?\n",
    "\n",
    "输入描述\n",
    "第一行输入 m 和 n，\n",
    "\n",
    "m 代表村子的土地的长\n",
    "n 代表土地的宽\n",
    "第二行开始输入地图上的具体标识\n",
    "\n",
    "输出描述\n",
    "此次分配土地，做出贡献的村民种最大会分配多大面积\n",
    "\n",
    "备注\n",
    "旗子上的数字为1~500，土地边长不超过500\n",
    "未插旗子的土地用0标识\n",
    "用例1\n",
    "输入\n",
    "3 3\n",
    "1 0 1\n",
    "0 0 0\n",
    "0 1 0\n",
    "输出\n",
    "9\n",
    "\"\"\""
   ]
  },
  {
   "cell_type": "code",
   "execution_count": 37,
   "metadata": {},
   "outputs": [],
   "source": [
    "import sys"
   ]
  },
  {
   "cell_type": "code",
   "execution_count": null,
   "metadata": {},
   "outputs": [],
   "source": []
  },
  {
   "cell_type": "code",
   "execution_count": 38,
   "metadata": {},
   "outputs": [],
   "source": [
    "class Rect():\n",
    "    def __init__(self):\n",
    "        self.minX = sys.maxsize\n",
    "        self.maxX = -sys.maxsize\n",
    "        self.minY = sys.maxsize\n",
    "        self.maxY = -sys.maxsize\n",
    "    def setX(self, X):\n",
    "        self.minX = min(self.minX, X)\n",
    "        self.maxX = max(self.maxX, X)\n",
    "    def setY(self, Y):\n",
    "        self.minY = min(self.minY, Y)\n",
    "        self.maxY = max(self.maxY, Y)\n"
   ]
  },
  {
   "cell_type": "code",
   "execution_count": 39,
   "metadata": {},
   "outputs": [],
   "source": [
    "# 输入 行 列 数\n",
    "h, l = map(int, input().split(' '))\n",
    "\n",
    "# 初始num字典\n",
    "rects = {}\n",
    "\n",
    "# 输入每一行数据\n",
    "for i in range(h):\n",
    "    nums = list(map(int, input().split(' ')))\n",
    "    # 每一列\n",
    "    for j in range(l):\n",
    "        num = nums[j]\n",
    "        if num > 0 :\n",
    "            # setdefault 函数 在没有key的时候 会创建key，value ， 有key不会更改value的值\n",
    "            rects.setdefault(num, Rect())\n",
    "            rects[num].setX(j)\n",
    "            rects[num].setY(i)\n",
    "\n",
    "maxAera = 0\n",
    "\n"
   ]
  },
  {
   "cell_type": "code",
   "execution_count": 40,
   "metadata": {},
   "outputs": [
    {
     "name": "stdout",
     "output_type": "stream",
     "text": [
      "9\n"
     ]
    }
   ],
   "source": [
    "for num, rect in rects.items():\n",
    "    maxAera = max(maxAera, (rect.maxX - rect.minX + 1) * (rect.maxY - rect.minY + 1))\n",
    "    \n",
    "print(maxAera)"
   ]
  },
  {
   "cell_type": "code",
   "execution_count": null,
   "metadata": {},
   "outputs": [],
   "source": []
  }
 ],
 "metadata": {
  "kernelspec": {
   "display_name": "pp",
   "language": "python",
   "name": "python3"
  },
  "language_info": {
   "codemirror_mode": {
    "name": "ipython",
    "version": 3
   },
   "file_extension": ".py",
   "mimetype": "text/x-python",
   "name": "python",
   "nbconvert_exporter": "python",
   "pygments_lexer": "ipython3",
   "version": "3.8.18"
  }
 },
 "nbformat": 4,
 "nbformat_minor": 2
}
