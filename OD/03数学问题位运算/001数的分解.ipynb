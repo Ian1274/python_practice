{
 "cells": [
  {
   "cell_type": "code",
   "execution_count": 9,
   "metadata": {},
   "outputs": [],
   "source": [
    "# 输入一个数\n",
    "n = int(input())"
   ]
  },
  {
   "cell_type": "code",
   "execution_count": 10,
   "metadata": {},
   "outputs": [
    {
     "data": {
      "text/plain": [
       "21"
      ]
     },
     "execution_count": 10,
     "metadata": {},
     "output_type": "execute_result"
    }
   ],
   "source": [
    "n"
   ]
  },
  {
   "cell_type": "code",
   "execution_count": 17,
   "metadata": {},
   "outputs": [],
   "source": [
    "# 等差数量思路\n",
    "\n",
    "def main(n):\n",
    "    # 从2个连续整数开始\n",
    "    m = 2\n",
    "    \n",
    "    while True:\n",
    "        # 前m项和\n",
    "        Sn = (1+m)*m/2\n",
    "        # 判断无效输入\n",
    "        if Sn > n:\n",
    "            return -1\n",
    "        # 判断 n - Sn 是否m的倍数\n",
    "        if (n - Sn) % m != 0:\n",
    "            m += 1\n",
    "            continue  # continue 直接 进行 while 下面的不运行\n",
    "\n",
    "        # 是m的倍数\n",
    "        a1 = (n - Sn) // m + 1\n",
    "        results = [str(int(a1 + i)) for i in range(m)]\n",
    "        return f\"{n} = {' + '.join(results)}\"\n",
    "    \n",
    "    return 'N'\n",
    "    "
   ]
  },
  {
   "cell_type": "code",
   "execution_count": 18,
   "metadata": {},
   "outputs": [
    {
     "data": {
      "text/plain": [
       "'21 = 10 + 11'"
      ]
     },
     "execution_count": 18,
     "metadata": {},
     "output_type": "execute_result"
    }
   ],
   "source": [
    "main(n)"
   ]
  },
  {
   "cell_type": "code",
   "execution_count": null,
   "metadata": {},
   "outputs": [],
   "source": []
  }
 ],
 "metadata": {
  "kernelspec": {
   "display_name": "pp",
   "language": "python",
   "name": "python3"
  },
  "language_info": {
   "codemirror_mode": {
    "name": "ipython",
    "version": 3
   },
   "file_extension": ".py",
   "mimetype": "text/x-python",
   "name": "python",
   "nbconvert_exporter": "python",
   "pygments_lexer": "ipython3",
   "version": "3.8.18"
  }
 },
 "nbformat": 4,
 "nbformat_minor": 2
}
