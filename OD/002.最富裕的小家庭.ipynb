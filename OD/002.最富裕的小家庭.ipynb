{
 "cells": [
  {
   "cell_type": "code",
   "execution_count": 14,
   "metadata": {},
   "outputs": [
    {
     "name": "stdout",
     "output_type": "stream",
     "text": [
      "700\n"
     ]
    }
   ],
   "source": [
    "N = int(input())\n",
    "wealth = list(map(lambda x: int(x), input().split(' ')))\n",
    "sum = []\n",
    "for _ in range(N-1):\n",
    "    fa, ch = list(map(int, input().split(' ')))\n",
    "    sum.append(wealth[fa-1] + wealth[ch-1])\n",
    "print(max(sum))"
   ]
  },
  {
   "cell_type": "code",
   "execution_count": null,
   "metadata": {},
   "outputs": [],
   "source": [
    "n = int(input())\n",
    "wealth = list(map(int, input().split()))\n",
    "# 这里头插一个0，是为了让wealth数组索引对应成员编号 1~N\n",
    "wealth.insert(0, 0)\n",
    "family = []\n",
    "family.extend(wealth)\n",
    "for _ in range(n - 1):\n",
    "    fa, ch = map(int, input().split())\n",
    "    family[fa] += wealth[ch]\n",
    "print(max(family))"
   ]
  },
  {
   "cell_type": "code",
   "execution_count": null,
   "metadata": {},
   "outputs": [],
   "source": []
  },
  {
   "cell_type": "code",
   "execution_count": null,
   "metadata": {},
   "outputs": [],
   "source": []
  }
 ],
 "metadata": {
  "kernelspec": {
   "display_name": "pp",
   "language": "python",
   "name": "python3"
  },
  "language_info": {
   "codemirror_mode": {
    "name": "ipython",
    "version": 3
   },
   "file_extension": ".py",
   "mimetype": "text/x-python",
   "name": "python",
   "nbconvert_exporter": "python",
   "pygments_lexer": "ipython3",
   "version": "3.8.18"
  }
 },
 "nbformat": 4,
 "nbformat_minor": 2
}
