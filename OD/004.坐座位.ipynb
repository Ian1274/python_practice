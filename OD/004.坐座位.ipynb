{
 "cells": [
  {
   "cell_type": "code",
   "execution_count": null,
   "metadata": {},
   "outputs": [],
   "source": [
    "\"\"\"\n",
    "题目描述\n",
    "在一个大型体育场内举办了一场大型活动，由于疫情防控的需要，要求每位观众的必须间隔至少一个空位才允许落座。\n",
    "\n",
    "现在给出一排观众座位分布图，座位中存在已落座的观众，请计算出，在不移动现有观众座位的情况下，最多还能坐下多少名观众。\n",
    "\n",
    "输入描述\n",
    "一个数组，用来标识某一排座位中，每个座位是否已经坐人。0表示该座位没有坐人，1表示该座位已经坐人。\n",
    "\n",
    "1 ≤ 数组长度 ≤ 20000\n",
    "输出描述\n",
    "整数，在不移动现有观众座位的情况下，最多还能坐下多少名观众。\n",
    "\n",
    "输入\n",
    "10001\n",
    "输出\n",
    "1\n",
    "\"\"\""
   ]
  },
  {
   "cell_type": "code",
   "execution_count": 2,
   "metadata": {},
   "outputs": [
    {
     "data": {
      "text/plain": [
       "'\\n策略：\\n判断当前位子\\n1、为0：\\n    左右是否为0，都为0则当前可以坐人，改为1\\n2、不为0：\\n    下一位\\n'"
      ]
     },
     "execution_count": 2,
     "metadata": {},
     "output_type": "execute_result"
    }
   ],
   "source": [
    "\"\"\"\n",
    "策略：\n",
    "判断当前位子\n",
    "1、为0：\n",
    "    左右是否为0，都为0则当前可以坐人，改为1\n",
    "2、不为0：\n",
    "    下一位\n",
    "\"\"\""
   ]
  },
  {
   "cell_type": "code",
   "execution_count": 7,
   "metadata": {},
   "outputs": [
    {
     "name": "stdout",
     "output_type": "stream",
     "text": [
      "['0', '1', '0', '1', '0', '1'] 0\n"
     ]
    }
   ],
   "source": [
    "s = list(input())\n",
    "num = 0\n",
    "for index, _ in enumerate(s):\n",
    "    if s[index] == '1':\n",
    "        continue\n",
    "    if s[index] == '0':\n",
    "        if s[index-1] == '0' and s[index+1] == '0':\n",
    "            s[index] = '1'\n",
    "            num += 1\n",
    "        else:\n",
    "            continue\n",
    "print(s, num)"
   ]
  },
  {
   "cell_type": "code",
   "execution_count": null,
   "metadata": {},
   "outputs": [],
   "source": []
  }
 ],
 "metadata": {
  "kernelspec": {
   "display_name": "pp",
   "language": "python",
   "name": "python3"
  },
  "language_info": {
   "codemirror_mode": {
    "name": "ipython",
    "version": 3
   },
   "file_extension": ".py",
   "mimetype": "text/x-python",
   "name": "python",
   "nbconvert_exporter": "python",
   "pygments_lexer": "ipython3",
   "version": "3.8.18"
  }
 },
 "nbformat": 4,
 "nbformat_minor": 2
}
