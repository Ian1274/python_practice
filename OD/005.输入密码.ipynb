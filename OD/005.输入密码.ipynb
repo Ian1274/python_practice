{
 "cells": [
  {
   "cell_type": "code",
   "execution_count": null,
   "metadata": {},
   "outputs": [],
   "source": [
    "\"\"\"\n",
    "题目描述\n",
    "给定用户密码输入流 input，输入流中字符 '<' 表示退格，可以清除前一个输入的字符，请你编写程序，输出最终得到的密码字符，并判断密码是否满足如下的密码安全要求。\n",
    "\n",
    "密码安全要求如下：\n",
    "\n",
    "密码长度 ≥ 8；\n",
    "密码至少需要包含 1 个大写字母；\n",
    "密码至少需要包含 1 个小写字母；\n",
    "密码至少需要包含 1 个数字；\n",
    "密码至少需要包含 1 个字母和数字以外的非空白特殊字符；\n",
    "注意空串退格后仍然为空串，且用户输入的字符串不包含 '<' 字符和空白字符。\n",
    "\n",
    "输入描述\n",
    "用一行字符串表示输入的用户数据，输入的字符串中 '<' 字符标识退格，用户输入的字符串不包含空白字符，例如：\n",
    "\n",
    "ABC<c89%000<\n",
    "\n",
    "输出描述\n",
    "输出经过程序处理后，输出的实际密码字符串，并输出改密码字符串是否满足密码安全要求。两者间由 ',' 分隔， 例如：\n",
    "\n",
    "ABc89%00,true\n",
    "\n",
    "用例1\n",
    "输入\n",
    "ABC<c89%000<\n",
    "输出\n",
    "ABc89%00,true\n",
    "\"\"\""
   ]
  },
  {
   "cell_type": "code",
   "execution_count": 3,
   "metadata": {},
   "outputs": [],
   "source": [
    "s = input()\n",
    "\n",
    "def getResult(s):\n",
    "    # 初始化判别条件\n",
    "    num_upper = 0\n",
    "    num_lower = 0\n",
    "    num_digit = 0\n",
    "    num_non_letter_num = 0\n",
    "    # 初始结果\n",
    "    res = []\n",
    "    for i in s:\n",
    "        res.append(i)\n",
    "        if i == '<':\n",
    "            res.pop()\n",
    "        else:\n",
    "            continue\n",
    "    \n",
    "    for i in res:\n",
    "        if i.isupper():\n",
    "            num_upper += 1\n",
    "        elif i.islower():\n",
    "            num_lower += 1\n",
    "        elif i.isdigit():\n",
    "            num_digit += 1\n",
    "        else:\n",
    "            num_non_letter_num += 1\n",
    "    \n",
    "    if num_upper > 0 and num_lower > 0 and num_digit > 0 and num_non_letter_num > 0:\n",
    "        return \"\".join(res), True\n",
    "    else :\n",
    "        return \"\".join(res), False\n",
    "\n"
   ]
  },
  {
   "cell_type": "code",
   "execution_count": 4,
   "metadata": {},
   "outputs": [
    {
     "data": {
      "text/plain": [
       "('ABCc89%000', True)"
      ]
     },
     "execution_count": 4,
     "metadata": {},
     "output_type": "execute_result"
    }
   ],
   "source": [
    "getResult(s)"
   ]
  },
  {
   "cell_type": "code",
   "execution_count": null,
   "metadata": {},
   "outputs": [],
   "source": []
  }
 ],
 "metadata": {
  "kernelspec": {
   "display_name": "pp",
   "language": "python",
   "name": "python3"
  },
  "language_info": {
   "codemirror_mode": {
    "name": "ipython",
    "version": 3
   },
   "file_extension": ".py",
   "mimetype": "text/x-python",
   "name": "python",
   "nbconvert_exporter": "python",
   "pygments_lexer": "ipython3",
   "version": "3.8.18"
  }
 },
 "nbformat": 4,
 "nbformat_minor": 2
}
