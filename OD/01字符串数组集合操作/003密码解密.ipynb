{
 "cells": [
  {
   "cell_type": "code",
   "execution_count": 1,
   "metadata": {},
   "outputs": [
    {
     "data": {
      "text/plain": [
       "'\\n题目描述\\n给定一段“密文”字符串 s，其中字符都是经过“密码本”映射的，现需要将“密文”解密并输出。\\n\\n映射的规则（\\'a\\' ~ \\'i\\'）分别用（\\'1\\' ~ \\'9\\'）表示；（\\'j\\' ~ \\'z\\'）分别用（\"10*\" ~ \"26*\"）表示。\\n\\n约束：映射始终唯一。\\n\\n输入描述\\n“密文”字符串\\n\\n输出描述\\n明文字符串\\n\\n备注\\n翻译后的文本长度在100以内\\n\\n用例1\\n输入\\n20*19*20*\\n输出\\ntst\\n'"
      ]
     },
     "execution_count": 1,
     "metadata": {},
     "output_type": "execute_result"
    }
   ],
   "source": [
    "\"\"\"\n",
    "题目描述\n",
    "给定一段“密文”字符串 s，其中字符都是经过“密码本”映射的，现需要将“密文”解密并输出。\n",
    "\n",
    "映射的规则（'a' ~ 'i'）分别用（'1' ~ '9'）表示；（'j' ~ 'z'）分别用（\"10*\" ~ \"26*\"）表示。\n",
    "\n",
    "约束：映射始终唯一。\n",
    "\n",
    "输入描述\n",
    "“密文”字符串\n",
    "\n",
    "输出描述\n",
    "明文字符串\n",
    "\n",
    "备注\n",
    "翻译后的文本长度在100以内\n",
    "\n",
    "用例1\n",
    "输入\n",
    "20*19*20*\n",
    "输出\n",
    "tst\n",
    "\"\"\""
   ]
  },
  {
   "cell_type": "code",
   "execution_count": 12,
   "metadata": {},
   "outputs": [],
   "source": [
    "s = input()"
   ]
  },
  {
   "cell_type": "code",
   "execution_count": 13,
   "metadata": {},
   "outputs": [
    {
     "data": {
      "text/plain": [
       "'20*19*20*'"
      ]
     },
     "execution_count": 13,
     "metadata": {},
     "output_type": "execute_result"
    }
   ],
   "source": [
    "s"
   ]
  },
  {
   "cell_type": "code",
   "execution_count": 14,
   "metadata": {},
   "outputs": [],
   "source": [
    "for i in range(26, 0, -1):\n",
    "    key = str(i)\n",
    "    if i > 9:\n",
    "        key += '*'\n",
    "    val = chr(97 + i -1)\n",
    "    s = s.replace(key, val)"
   ]
  },
  {
   "cell_type": "code",
   "execution_count": 15,
   "metadata": {},
   "outputs": [
    {
     "data": {
      "text/plain": [
       "'tst'"
      ]
     },
     "execution_count": 15,
     "metadata": {},
     "output_type": "execute_result"
    }
   ],
   "source": [
    "s"
   ]
  },
  {
   "cell_type": "code",
   "execution_count": null,
   "metadata": {},
   "outputs": [],
   "source": []
  }
 ],
 "metadata": {
  "kernelspec": {
   "display_name": "pp",
   "language": "python",
   "name": "python3"
  },
  "language_info": {
   "codemirror_mode": {
    "name": "ipython",
    "version": 3
   },
   "file_extension": ".py",
   "mimetype": "text/x-python",
   "name": "python",
   "nbconvert_exporter": "python",
   "pygments_lexer": "ipython3",
   "version": "3.8.18"
  }
 },
 "nbformat": 4,
 "nbformat_minor": 2
}
