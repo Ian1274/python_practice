{
 "cells": [
  {
   "cell_type": "code",
   "execution_count": null,
   "metadata": {},
   "outputs": [],
   "source": [
    "\"\"\"\n",
    "题目描述\n",
    "现代计算机系统中通常存在多级的存储设备，针对海量 workload 的优化的一种思路是将热点内存页优先放到快速存储层级，这就需要对内存页进行冷热标记。\n",
    "\n",
    "一种典型的方案是基于内存页的访问频次进行标记，如果统计窗口内访问次数大于等于设定阈值，则认为是热内存页，否则是冷内存页。\n",
    "\n",
    "对于统计窗口内跟踪到的访存序列和阈值，现在需要实现基于频次的冷热标记。内存页使用页框号作为标识。\n",
    "\n",
    "输入描述\n",
    "第一行输入为 N，表示访存序列的记录条数，0 < N ≤ 10000。\n",
    "\n",
    "第二行为访存序列，空格分隔的 N 个内存页框号，页面号范围 0 ~ 65535，同一个页框号可能重复出现，出现的次数即为对应框号的频次。\n",
    "\n",
    "第三行为热内存的频次阈值 T，正整数范围 1 ≤ T ≤ 10000。\n",
    "\n",
    "输出描述\n",
    "第一行输出标记为热内存的内存页个数，如果没有被标记的热内存页，则输出 0 。\n",
    "\n",
    "如果第一行 > 0，则接下来按照访问频次降序输出内存页框号，一行一个，频次一样的页框号，页框号小的排前面。\n",
    "\n",
    "用例1\n",
    "输入\n",
    "10\n",
    "1 2 1 2 1 2 1 2 1 2\n",
    "5\n",
    "输出\n",
    "2\n",
    "1\n",
    "2\n",
    "说明\n",
    "内存页1和内存页2均被访问了5次，达到了阈值5，因此热内存页有2个。内存页1和内存页2的访问频次相等，页框号小的排前面。\n",
    "\n",
    "用例2\n",
    "输入\n",
    "5\n",
    "1 2 3 4 5\n",
    "3\n",
    "输出\n",
    "0\n",
    "说明\n",
    "访存跟踪里面访存频次没有超过3的，因此热内存个数为0。\n",
    "\n",
    "\"\"\""
   ]
  },
  {
   "cell_type": "code",
   "execution_count": 2,
   "metadata": {},
   "outputs": [],
   "source": [
    "# 第一行输入为 N，表示访存序列的记录条数，0 < N ≤ 10000。\n",
    "N = int(input())\n",
    "# 第二行为访存序列，空格分隔的 N 个内存页框号，页面号范围 0 ~ 65535，同一个页框号可能重复出现，出现的次数即为对应框号的频次。\n",
    "seq = input().split(' ')\n",
    "# 第三行为热内存的频次阈值 T，正整数范围 1 ≤ T ≤ 10000。\n",
    "T  = int(input())"
   ]
  },
  {
   "cell_type": "code",
   "execution_count": 3,
   "metadata": {},
   "outputs": [
    {
     "data": {
      "text/plain": [
       "(10, ['1', '2', '1', '2', '1', '2', '1', '2', '1', '2'], 5)"
      ]
     },
     "execution_count": 3,
     "metadata": {},
     "output_type": "execute_result"
    }
   ],
   "source": [
    "N, seq, T"
   ]
  },
  {
   "cell_type": "code",
   "execution_count": 8,
   "metadata": {},
   "outputs": [],
   "source": [
    "def main(N, seq, T):\n",
    "    objs = {}\n",
    "    for i in seq:\n",
    "        objs.setdefault(i, 0)\n",
    "        objs[i] += 1\n",
    "    objs = list(filter(lambda x : x[1] >= T, objs.items()))\n",
    "    print(len(objs))\n",
    "    if len(objs) > 0:\n",
    "        objs = sorted(objs, key=lambda x : (-x[-1], x[0]))\n",
    "        for i, _ in objs:\n",
    "            print(i)"
   ]
  },
  {
   "cell_type": "code",
   "execution_count": 9,
   "metadata": {},
   "outputs": [
    {
     "name": "stdout",
     "output_type": "stream",
     "text": [
      "2\n",
      "1\n",
      "2\n"
     ]
    }
   ],
   "source": [
    "main(N, seq, T)"
   ]
  },
  {
   "cell_type": "code",
   "execution_count": null,
   "metadata": {},
   "outputs": [],
   "source": []
  }
 ],
 "metadata": {
  "kernelspec": {
   "display_name": "base",
   "language": "python",
   "name": "python3"
  },
  "language_info": {
   "codemirror_mode": {
    "name": "ipython",
    "version": 3
   },
   "file_extension": ".py",
   "mimetype": "text/x-python",
   "name": "python",
   "nbconvert_exporter": "python",
   "pygments_lexer": "ipython3",
   "version": "3.9.7"
  }
 },
 "nbformat": 4,
 "nbformat_minor": 2
}
