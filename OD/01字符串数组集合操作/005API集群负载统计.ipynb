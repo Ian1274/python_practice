{
 "cells": [
  {
   "cell_type": "code",
   "execution_count": null,
   "metadata": {},
   "outputs": [],
   "source": [
    "\"\"\"\n",
    "题目描述\n",
    "某个产品的RESTful API集合部署在服务器集群的多个节点上，近期对客户端访问日志进行了采集，需要统计各个API的访问频次，根据热点信息在服务器节点之间做负载均衡，现在需要实现热点信息统计查询功能。\n",
    "\n",
    "RESTful API是由多个层级构成，层级之间使用 / 连接，如 /A/B/C/D 这个地址，A属于第一级，B属于第二级，C属于第三级，D属于第四级。\n",
    "\n",
    "现在负载均衡模块需要知道给定层级上某个名字出现的频次，未出现过用0表示，实现这个功能。\n",
    "\n",
    "输入描述\n",
    "第一行为N，表示访问历史日志的条数，0 ＜ N ≤ 100。\n",
    "\n",
    "接下来N行，每一行为一个RESTful API的URL地址，约束地址中仅包含英文字母和连接符 / ，最大层级为10，每层级字符串最大长度为10。\n",
    "\n",
    "最后一行为层级L和要查询的关键字。\n",
    "\n",
    "输出描述\n",
    "输出给定层级上，关键字出现的频次，使用完全匹配方式（大小写敏感）。\n",
    "\n",
    "用例1\n",
    "输入\n",
    "5\n",
    "/huawei/computing/no/one\n",
    "/huawei/computing\n",
    "/huawei\n",
    "/huawei/cloud/no/one\n",
    "/huawei/wireless/no/one\n",
    "2 computing\n",
    "输出\n",
    "2\n",
    "说明\n",
    "在第二层级上，computing出现了2次，因此输出2\n",
    "\"\"\""
   ]
  },
  {
   "cell_type": "code",
   "execution_count": 1,
   "metadata": {},
   "outputs": [],
   "source": [
    "# 输入 访问日志数量N\n",
    "N = int(input())\n",
    "# 输入 N条访问日志数量\n",
    "logs = []\n",
    "for _ in range(N):\n",
    "    logs.append(input().split(\"/\"))\n",
    "# 输入 查询层级 查询关键词\n",
    "query = input().split(' ')"
   ]
  },
  {
   "cell_type": "code",
   "execution_count": 2,
   "metadata": {},
   "outputs": [
    {
     "data": {
      "text/plain": [
       "(5,\n",
       " [['', 'huawei', 'computing', 'no', 'one'],\n",
       "  ['', 'huawei', 'computing'],\n",
       "  ['', 'huawei'],\n",
       "  ['', 'huawei', 'cloud', 'no', 'one'],\n",
       "  ['', 'huawei', 'wireless', 'no', 'one']],\n",
       " ['2', 'computing'])"
      ]
     },
     "execution_count": 2,
     "metadata": {},
     "output_type": "execute_result"
    }
   ],
   "source": [
    "N, logs, query"
   ]
  },
  {
   "cell_type": "code",
   "execution_count": 15,
   "metadata": {},
   "outputs": [],
   "source": [
    "max_l = len(max(logs, key=lambda x : len(x)))\n",
    "dcts = []\n",
    "for _ in range(max_l):\n",
    "    dcts.append({})\n",
    "for i in logs:\n",
    "    for idx, v in enumerate(i):\n",
    "        # print(idx, type(v))\n",
    "        # print(dcts[idx])\n",
    "        dct = dcts[idx]\n",
    "        if v in dct:\n",
    "            dct[v] += 1\n",
    "        else:\n",
    "            dct[v] = 1\n"
   ]
  },
  {
   "cell_type": "code",
   "execution_count": 17,
   "metadata": {},
   "outputs": [
    {
     "name": "stdout",
     "output_type": "stream",
     "text": [
      "2\n"
     ]
    }
   ],
   "source": [
    "query_dct = dcts[int(query[0])]\n",
    "if query[1] in query_dct:\n",
    "    print(query_dct[query[1]])\n",
    "else:\n",
    "    print(0)"
   ]
  },
  {
   "cell_type": "code",
   "execution_count": null,
   "metadata": {},
   "outputs": [],
   "source": []
  }
 ],
 "metadata": {
  "kernelspec": {
   "display_name": "pp",
   "language": "python",
   "name": "python3"
  },
  "language_info": {
   "codemirror_mode": {
    "name": "ipython",
    "version": 3
   },
   "file_extension": ".py",
   "mimetype": "text/x-python",
   "name": "python",
   "nbconvert_exporter": "python",
   "pygments_lexer": "ipython3",
   "version": "3.8.18"
  }
 },
 "nbformat": 4,
 "nbformat_minor": 2
}
