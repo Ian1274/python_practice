{
 "cells": [
  {
   "cell_type": "code",
   "execution_count": null,
   "metadata": {},
   "outputs": [],
   "source": [
    "\"\"\"\n",
    "题目描述\n",
    "输入一个由N个大小写字母组成的字符串\n",
    "\n",
    "按照ASCII码值从小到大进行排序\n",
    "\n",
    "查找字符串中第K个最小ASCII码值的字母(k>=1)\n",
    "\n",
    "输出该字母所在字符串中的位置索引(字符串的第一个位置索引为0)\n",
    "\n",
    "k如果大于字符串长度则输出最大ASCII码值的字母所在字符串的位置索引\n",
    "\n",
    "如果有重复字母则输出字母的最小位置索引\n",
    "\n",
    "输入描述\n",
    "第一行输入一个由大小写字母组成的字符串\n",
    "\n",
    "第二行输入k ，k必须大于0 ，k可以大于输入字符串的长度\n",
    "\n",
    "输出描述\n",
    "输出字符串中第k个最小ASCII码值的字母所在字符串的位置索引\n",
    "\n",
    "k如果大于字符串长度则输出最大ASCII码值的字母所在字符串的位置索引\n",
    "\n",
    "如果第k个最小ASCII码值的字母存在重复 则输出该字母的最小位置索引\n",
    "\n",
    "用例1\n",
    "输入\n",
    "AbCdeFG\n",
    "3\n",
    "输出\n",
    "5\n",
    "说明\n",
    "根据ASCII码值排序，第三个ASCII码值的字母为F\n",
    "\n",
    "F在字符串中位置索引为5(0为字符串的第一个字母位置索引)\n",
    "\n",
    "用例2\n",
    "输入\n",
    "fAdDAkBbBq\n",
    "4\n",
    "输出\n",
    "6\n",
    "说明\n",
    "根据ASCII码值排序前4个字母为AABB由于B重复则只取B的第一个最小位置索引6\n",
    "\n",
    "而不是第二个B的位置索引8\n",
    "\"\"\""
   ]
  },
  {
   "cell_type": "code",
   "execution_count": 1,
   "metadata": {},
   "outputs": [],
   "source": [
    "s = input()\n",
    "k = int(input())"
   ]
  },
  {
   "cell_type": "code",
   "execution_count": 4,
   "metadata": {},
   "outputs": [
    {
     "data": {
      "text/plain": [
       "('fAdDAkBbBq', 4)"
      ]
     },
     "execution_count": 4,
     "metadata": {},
     "output_type": "execute_result"
    }
   ],
   "source": [
    "s, k"
   ]
  },
  {
   "cell_type": "code",
   "execution_count": 19,
   "metadata": {},
   "outputs": [],
   "source": [
    "def main(s, k):\n",
    "    \n",
    "    sl = list(s)\n",
    "    # print(sl)\n",
    "    sl = sorted(sl, key=lambda x : ord(x))\n",
    "    # print(sl)\n",
    "    if k > len(sl):\n",
    "        k = len(sl)\n",
    "    tar = sl[k-1]\n",
    "    return s.index(tar)"
   ]
  },
  {
   "cell_type": "code",
   "execution_count": 20,
   "metadata": {},
   "outputs": [
    {
     "data": {
      "text/plain": [
       "6"
      ]
     },
     "execution_count": 20,
     "metadata": {},
     "output_type": "execute_result"
    }
   ],
   "source": [
    "main(s, k)"
   ]
  },
  {
   "cell_type": "code",
   "execution_count": 15,
   "metadata": {},
   "outputs": [
    {
     "data": {
      "text/plain": [
       "(97, 'a')"
      ]
     },
     "execution_count": 15,
     "metadata": {},
     "output_type": "execute_result"
    }
   ],
   "source": [
    "ord('a'), chr(97)"
   ]
  },
  {
   "cell_type": "code",
   "execution_count": 18,
   "metadata": {},
   "outputs": [
    {
     "data": {
      "text/plain": [
       "6"
      ]
     },
     "execution_count": 18,
     "metadata": {},
     "output_type": "execute_result"
    }
   ],
   "source": [
    "a = ['f', 'A', 'd', 'D', 'A', 'k', 'B', 'b', 'B', 'q']\n",
    "a.index('B')"
   ]
  },
  {
   "cell_type": "code",
   "execution_count": null,
   "metadata": {},
   "outputs": [],
   "source": []
  }
 ],
 "metadata": {
  "kernelspec": {
   "display_name": "pp",
   "language": "python",
   "name": "python3"
  },
  "language_info": {
   "codemirror_mode": {
    "name": "ipython",
    "version": 3
   },
   "file_extension": ".py",
   "mimetype": "text/x-python",
   "name": "python",
   "nbconvert_exporter": "python",
   "pygments_lexer": "ipython3",
   "version": "3.9.7"
  }
 },
 "nbformat": 4,
 "nbformat_minor": 2
}
