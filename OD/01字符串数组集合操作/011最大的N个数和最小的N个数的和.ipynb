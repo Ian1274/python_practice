{
 "cells": [
  {
   "cell_type": "code",
   "execution_count": 20,
   "metadata": {},
   "outputs": [
    {
     "data": {
      "text/plain": [
       "'\\n题目描述\\n给定一个数组，编写一个函数来计算它的最大N个数与最小N个数的和。你需要对数组进行去重。\\n\\n说明：\\n\\n数组中数字范围[0, 1000]\\n最大N个数与最小N个数不能有重叠，如有重叠，输入非法返回-1\\n输入非法返回-1\\n输入描述\\n第一行输入M， M标识数组大小\\n第二行输入M个数，标识数组内容\\n第三行输入N，N表达需要计算的最大、最小N个数\\n输出描述\\n输出最大N个数与最小N个数的和\\n\\n用例1\\n输入\\n5\\n95 88 83 64 100\\n2\\n输出\\n342\\n说明\\n最大2个数[100,95],最小2个数[83,64], 输出为342。\\n\\n用例2\\n输入\\n5\\n3 2 3 4 2\\n2\\n输出\\n-1\\n说明\\n最大2个数[4,3],最小2个数[3,2], 有重叠输出为-1。\\n'"
      ]
     },
     "execution_count": 20,
     "metadata": {},
     "output_type": "execute_result"
    }
   ],
   "source": [
    "\"\"\"\n",
    "题目描述\n",
    "给定一个数组，编写一个函数来计算它的最大N个数与最小N个数的和。你需要对数组进行去重。\n",
    "\n",
    "说明：\n",
    "\n",
    "数组中数字范围[0, 1000]\n",
    "最大N个数与最小N个数不能有重叠，如有重叠，输入非法返回-1\n",
    "输入非法返回-1\n",
    "输入描述\n",
    "第一行输入M， M标识数组大小\n",
    "第二行输入M个数，标识数组内容\n",
    "第三行输入N，N表达需要计算的最大、最小N个数\n",
    "输出描述\n",
    "输出最大N个数与最小N个数的和\n",
    "\n",
    "用例1\n",
    "输入\n",
    "5\n",
    "95 88 83 64 100\n",
    "2\n",
    "输出\n",
    "342\n",
    "说明\n",
    "最大2个数[100,95],最小2个数[83,64], 输出为342。\n",
    "\n",
    "用例2\n",
    "输入\n",
    "5\n",
    "3 2 3 4 2\n",
    "2\n",
    "输出\n",
    "-1\n",
    "说明\n",
    "最大2个数[4,3],最小2个数[3,2], 有重叠输出为-1。\n",
    "\"\"\""
   ]
  },
  {
   "cell_type": "code",
   "execution_count": 21,
   "metadata": {},
   "outputs": [],
   "source": [
    "# 第一行输入M， M标识数组大小\n",
    "M = int(input())\n",
    "# 第二行输入M个数，标识数组内容\n",
    "lst = list(map(int, input().split(' ')))\n",
    "# 第三行输入N，N表达需要计算的最大、最小N个数\n",
    "N = int(input())\n"
   ]
  },
  {
   "cell_type": "code",
   "execution_count": 22,
   "metadata": {},
   "outputs": [
    {
     "data": {
      "text/plain": [
       "(5, [3, 2, 3, 4, 2], 2)"
      ]
     },
     "execution_count": 22,
     "metadata": {},
     "output_type": "execute_result"
    }
   ],
   "source": [
    "M, lst, N"
   ]
  },
  {
   "cell_type": "code",
   "execution_count": 36,
   "metadata": {},
   "outputs": [],
   "source": [
    "def main(M, lst, N):\n",
    "    if max(lst) > 1000:\n",
    "        return -1\n",
    "    lst = sorted(lst)\n",
    "    lst = list(set(lst))\n",
    "    max_2 = lst[-2:]\n",
    "    min_2 = lst[:2]\n",
    "    if 2 * N > len(lst):\n",
    "        return -1\n",
    "    else:\n",
    "        for i in max_2:\n",
    "            for j in min_2:\n",
    "                if i == j:\n",
    "                    return -1\n",
    "        return sum(max_2) + sum(min_2)"
   ]
  },
  {
   "cell_type": "code",
   "execution_count": 37,
   "metadata": {},
   "outputs": [
    {
     "data": {
      "text/plain": [
       "[2, 2, 3, 3, 4]"
      ]
     },
     "execution_count": 37,
     "metadata": {},
     "output_type": "execute_result"
    }
   ],
   "source": [
    "lst = sorted(lst)\n",
    "lst"
   ]
  },
  {
   "cell_type": "code",
   "execution_count": 38,
   "metadata": {},
   "outputs": [
    {
     "data": {
      "text/plain": [
       "[3, 4]"
      ]
     },
     "execution_count": 38,
     "metadata": {},
     "output_type": "execute_result"
    }
   ],
   "source": [
    "lst[-2:]"
   ]
  },
  {
   "cell_type": "code",
   "execution_count": 39,
   "metadata": {},
   "outputs": [
    {
     "data": {
      "text/plain": [
       "-1"
      ]
     },
     "execution_count": 39,
     "metadata": {},
     "output_type": "execute_result"
    }
   ],
   "source": [
    "main(M, lst, N)"
   ]
  },
  {
   "cell_type": "code",
   "execution_count": null,
   "metadata": {},
   "outputs": [],
   "source": []
  }
 ],
 "metadata": {
  "kernelspec": {
   "display_name": "base",
   "language": "python",
   "name": "python3"
  },
  "language_info": {
   "codemirror_mode": {
    "name": "ipython",
    "version": 3
   },
   "file_extension": ".py",
   "mimetype": "text/x-python",
   "name": "python",
   "nbconvert_exporter": "python",
   "pygments_lexer": "ipython3",
   "version": "3.9.7"
  }
 },
 "nbformat": 4,
 "nbformat_minor": 2
}
