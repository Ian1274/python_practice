{
 "cells": [
  {
   "cell_type": "code",
   "execution_count": null,
   "metadata": {},
   "outputs": [],
   "source": [
    "\"\"\"\n",
    "题目描述\n",
    "某学校举行运动会，学生们按编号(1、2、3…n)进行标识，现需要按照身高由低到高排列，对身高相同的人，按体重由轻到重排列；对于身高体重都相同的人，维持原有的编号顺序关系。请输出排列后的学生编号。\n",
    "\n",
    "输入描述\n",
    "两个序列，每个序列由n个正整数组成（0 < n <= 100）。第一个序列中的数值代表身高，第二个序列中的数值代表体重。\n",
    "\n",
    "输出描述\n",
    "排列结果，每个数值都是原始序列中的学生编号，编号从1开始\n",
    "\n",
    "用例1\n",
    "输入\n",
    "4\n",
    "100 100 120 130\n",
    "40 30 60 50\n",
    "输出\n",
    "2 1 3 4\n",
    "说明\n",
    "输出的第一个数字2表示此人原始编号为2，即身高为100，体重为30的这个人。\n",
    "\n",
    "由于他和编号为1的人身高一样，但体重更轻，因此要排在1前面\n",
    "\"\"\""
   ]
  },
  {
   "cell_type": "code",
   "execution_count": 1,
   "metadata": {},
   "outputs": [],
   "source": [
    "N = int(input())\n",
    "height = list(map(int, input().split(' ')))\n",
    "weight = list(map(int, input().split(' ')))"
   ]
  },
  {
   "cell_type": "code",
   "execution_count": 2,
   "metadata": {},
   "outputs": [
    {
     "data": {
      "text/plain": [
       "(4, [100, 100, 120, 130], [40, 30, 60, 50])"
      ]
     },
     "execution_count": 2,
     "metadata": {},
     "output_type": "execute_result"
    }
   ],
   "source": [
    "N, height, weight"
   ]
  },
  {
   "cell_type": "code",
   "execution_count": 8,
   "metadata": {},
   "outputs": [
    {
     "data": {
      "text/plain": [
       "[(100, 40), (100, 30), (120, 60), (130, 50)]"
      ]
     },
     "execution_count": 8,
     "metadata": {},
     "output_type": "execute_result"
    }
   ],
   "source": [
    "h_w = []\n",
    "for h, w in zip(height, weight):\n",
    "    h_w.append((h, w))\n",
    "h_w"
   ]
  },
  {
   "cell_type": "code",
   "execution_count": 11,
   "metadata": {},
   "outputs": [],
   "source": [
    "# h_w_sorted = sorted(h_w, key=lambda x:(x[0], x[1]))\n",
    "idx_hw = []\n",
    "for idx, v in enumerate(h_w):\n",
    "    idx_hw.append((idx+1, v))"
   ]
  },
  {
   "cell_type": "code",
   "execution_count": 15,
   "metadata": {},
   "outputs": [
    {
     "name": "stdout",
     "output_type": "stream",
     "text": [
      "2 1 3 4 "
     ]
    }
   ],
   "source": [
    "idx_hw_sorted = sorted(idx_hw, key=lambda x :(x[1][0], x[1][1]))\n",
    "for i in idx_hw_sorted:\n",
    "    print(i[0], end=' ')"
   ]
  },
  {
   "cell_type": "code",
   "execution_count": null,
   "metadata": {},
   "outputs": [],
   "source": []
  }
 ],
 "metadata": {
  "kernelspec": {
   "display_name": "pp",
   "language": "python",
   "name": "python3"
  },
  "language_info": {
   "codemirror_mode": {
    "name": "ipython",
    "version": 3
   },
   "file_extension": ".py",
   "mimetype": "text/x-python",
   "name": "python",
   "nbconvert_exporter": "python",
   "pygments_lexer": "ipython3",
   "version": "3.8.18"
  }
 },
 "nbformat": 4,
 "nbformat_minor": 2
}
