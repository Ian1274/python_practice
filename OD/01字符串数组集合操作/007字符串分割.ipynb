{
 "cells": [
  {
   "cell_type": "code",
   "execution_count": null,
   "metadata": {},
   "outputs": [],
   "source": [
    "\"\"\"\n",
    "题目描述\n",
    "给定一个非空字符串S，其被N个‘-’分隔成N+1的子串，给定正整数K，要求除第一个子串外，其余的子串每K个字符组成新的子串，并用‘-’分隔。\n",
    "\n",
    "对于新组成的每一个子串，如果它含有的小写字母比大写字母多，则将这个子串的所有大写字母转换为小写字母；\n",
    "\n",
    "反之，如果它含有的大写字母比小写字母多，则将这个子串的所有小写字母转换为大写字母；大小写字母的数量相等时，不做转换。\n",
    "\n",
    "输入描述\n",
    "输入为两行，第一行为参数K，第二行为字符串S。\n",
    "\n",
    "输出描述\n",
    "输出转换后的字符串。\n",
    "\n",
    "用例1\n",
    "输入\n",
    "3\n",
    "12abc-abCABc-4aB@\n",
    "输出\n",
    "12abc-abc-ABC-4aB-@\n",
    "说明\n",
    "子串为12abc、abCABc、4aB@，第一个子串保留，\n",
    "\n",
    "后面的子串每3个字符一组为abC、ABc、4aB、@，\n",
    "\n",
    "abC中小写字母较多，转换为abc，\n",
    "\n",
    "ABc中大写字母较多，转换为ABC，\n",
    "\n",
    "4aB中大小写字母都为1个，不做转换，\n",
    "\n",
    "@中没有字母，连起来即12abc-abc-ABC-4aB-@\n",
    "\"\"\""
   ]
  },
  {
   "cell_type": "code",
   "execution_count": 1,
   "metadata": {},
   "outputs": [],
   "source": [
    "k = int(input())\n",
    "s = input()"
   ]
  },
  {
   "cell_type": "code",
   "execution_count": 2,
   "metadata": {},
   "outputs": [
    {
     "data": {
      "text/plain": [
       "(3, '12abc-abCABc-4aB@')"
      ]
     },
     "execution_count": 2,
     "metadata": {},
     "output_type": "execute_result"
    }
   ],
   "source": [
    "k, s"
   ]
  },
  {
   "cell_type": "code",
   "execution_count": 7,
   "metadata": {},
   "outputs": [],
   "source": [
    "def cvt(s):\n",
    "    upper = 0\n",
    "    lower = 0\n",
    "    for i in s:\n",
    "        if i.isupper():\n",
    "            upper += 1\n",
    "        elif i.islower():\n",
    "            lower += 1\n",
    "    if upper > lower:\n",
    "        return s.upper()\n",
    "    elif upper < lower:\n",
    "        return s.lower()\n",
    "    else:\n",
    "        return s"
   ]
  },
  {
   "cell_type": "code",
   "execution_count": 15,
   "metadata": {},
   "outputs": [
    {
     "name": "stdout",
     "output_type": "stream",
     "text": [
      "12abc-abc-ABC-4aB-@\n"
     ]
    }
   ],
   "source": [
    "ss = s.split('-')\n",
    "first = ss[0]\n",
    "residual = \"\".join(ss[1:])\n",
    "ress = []\n",
    "for i in range(0, len(residual), k):\n",
    "    slc = residual[i:i + k]\n",
    "    slc_cvt = cvt(slc)\n",
    "    ress.append(slc_cvt)\n",
    "print(first + '-' + '-'.join(ress))"
   ]
  },
  {
   "cell_type": "code",
   "execution_count": 14,
   "metadata": {},
   "outputs": [
    {
     "data": {
      "text/plain": [
       "('12abc', 'abCABc4aB@', ['abc', 'ABC', '4aB', '@'])"
      ]
     },
     "execution_count": 14,
     "metadata": {},
     "output_type": "execute_result"
    }
   ],
   "source": [
    "first, residual, ress"
   ]
  },
  {
   "cell_type": "code",
   "execution_count": null,
   "metadata": {},
   "outputs": [],
   "source": []
  }
 ],
 "metadata": {
  "kernelspec": {
   "display_name": "pp",
   "language": "python",
   "name": "python3"
  },
  "language_info": {
   "codemirror_mode": {
    "name": "ipython",
    "version": 3
   },
   "file_extension": ".py",
   "mimetype": "text/x-python",
   "name": "python",
   "nbconvert_exporter": "python",
   "pygments_lexer": "ipython3",
   "version": "3.8.18"
  }
 },
 "nbformat": 4,
 "nbformat_minor": 2
}
