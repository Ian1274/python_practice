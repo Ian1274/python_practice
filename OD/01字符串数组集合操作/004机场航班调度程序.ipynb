{
 "cells": [
  {
   "cell_type": "code",
   "execution_count": null,
   "metadata": {},
   "outputs": [],
   "source": [
    "\"\"\"\n",
    "题目描述\n",
    "XX市机场停放了多架飞机，每架飞机都有自己的航班号CA3385，CZ6678，SC6508等，航班号的前2个大写字母（或数字）代表航空公司的缩写，后面4个数字代表航班信息。\n",
    "\n",
    "但是XX市机场只有一条起飞跑道，调度人员需要安排目前停留在机场的航班有序起飞。\n",
    "\n",
    "为保障航班的有序起飞，调度员首先按照航空公司的缩写（航班号前2个字母）对所有航班进行排序，同一航空公司的航班再按照航班号的后4个数字进行排序，最终获得安排好的航班的起飞顺序。\n",
    "\n",
    "请编写一段代码根据输入的航班号信息帮助调度员输出航班的起飞顺序。\n",
    "\n",
    "说明：\n",
    "\n",
    "航空公司缩写排序按照从特殊符号$ & *，0~9，A~Z排序；\n",
    "\n",
    "输入描述\n",
    "第一行输入航班信息，多个航班号之间用逗号 \",\" 分隔，输入的航班号不超过100个。\n",
    "\n",
    "例如：\n",
    "\n",
    "CA3385,CZ6678,SC6508,DU7523,HK4456,MK0987\n",
    "\n",
    "备注：\n",
    "\n",
    "航班号为6为长度，后4位位纯数字，不考虑存在后4位重复的场景。\n",
    "\n",
    "输出描述\n",
    "CA3385,CZ6678,DU7523,HK4456,MK0987,SC6508\n",
    "\n",
    "用例1\n",
    "输入\n",
    "CA3385,CZ6678,SC6508,DU7523,HK4456,MK0987\n",
    "输出\n",
    "CA3385,CZ6678,DU7523,HK4456,MK0987,SC6508\n",
    "说明\n",
    "输入为目前停留在该机场的航班号，输出为按照调度排序后输出的有序的航班号\n",
    "\"\"\""
   ]
  },
  {
   "cell_type": "code",
   "execution_count": 1,
   "metadata": {},
   "outputs": [],
   "source": [
    "# 输入\n",
    "s = input().split(\",\")"
   ]
  },
  {
   "cell_type": "code",
   "execution_count": 2,
   "metadata": {},
   "outputs": [
    {
     "data": {
      "text/plain": [
       "['CA3385', 'CZ6678', 'SC6508', 'DU7523', 'HK4456', 'MK0987']"
      ]
     },
     "execution_count": 2,
     "metadata": {},
     "output_type": "execute_result"
    }
   ],
   "source": [
    "s"
   ]
  },
  {
   "cell_type": "code",
   "execution_count": 3,
   "metadata": {},
   "outputs": [],
   "source": [
    "s = sorted(s, key=lambda x: (x[:2], x[2:]))"
   ]
  },
  {
   "cell_type": "code",
   "execution_count": 4,
   "metadata": {},
   "outputs": [
    {
     "data": {
      "text/plain": [
       "['CA3385', 'CZ6678', 'DU7523', 'HK4456', 'MK0987', 'SC6508']"
      ]
     },
     "execution_count": 4,
     "metadata": {},
     "output_type": "execute_result"
    }
   ],
   "source": [
    "s"
   ]
  },
  {
   "cell_type": "code",
   "execution_count": null,
   "metadata": {},
   "outputs": [],
   "source": []
  }
 ],
 "metadata": {
  "kernelspec": {
   "display_name": "pp",
   "language": "python",
   "name": "python3"
  },
  "language_info": {
   "codemirror_mode": {
    "name": "ipython",
    "version": 3
   },
   "file_extension": ".py",
   "mimetype": "text/x-python",
   "name": "python",
   "nbconvert_exporter": "python",
   "pygments_lexer": "ipython3",
   "version": "3.8.18"
  }
 },
 "nbformat": 4,
 "nbformat_minor": 2
}
