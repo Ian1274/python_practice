{
 "cells": [
  {
   "cell_type": "code",
   "execution_count": null,
   "metadata": {},
   "outputs": [],
   "source": [
    "\"\"\"\n",
    "题目描述\n",
    "给定一个字符串，只包含大写字母，求在包含同一字母的子串中，长度第 k 长的子串的长度，相同字母只取最长的那个子串。\n",
    "\n",
    "输入描述\n",
    "第一行有一个子串(1<长度<=100)，只包含大写字母。\n",
    "\n",
    "第二行为 k的值\n",
    "\n",
    "输出描述\n",
    "输出连续出现次数第k多的字母的次数。\n",
    "\n",
    "用例1\n",
    "输入\n",
    "AAAAHHHBBCDHHHH\n",
    "3\n",
    "输出\n",
    "2\n",
    "说明\n",
    "同一字母连续出现的最多的是A和H，四次；\n",
    "\n",
    "第二多的是H，3次，但是H已经存在4个连续的，故不考虑；\n",
    "\n",
    "下个最长子串是BB，所以最终答案应该输出2。\n",
    "\n",
    "用例2\n",
    "输入\n",
    "AABAAA\n",
    "2\n",
    "输出\n",
    "1\n",
    "说明\n",
    "同一字母连续出现的最多的是A，三次；\n",
    "\n",
    "第二多的还是A，两次，但A已经存在最大连续次数三次，故不考虑；\n",
    "\n",
    "下个最长子串是B，所以输出1。\n",
    "\n",
    "用例3\n",
    "输入\n",
    "ABC\n",
    "4\n",
    "输出\n",
    "-1\n",
    "说明\n",
    "只含有3个包含同一字母的子串，小于k，输出-1\n",
    "\n",
    "用例4\n",
    "输入\n",
    "ABC\n",
    "2\n",
    "输出\n",
    "1\n",
    "说明\n",
    "三个子串长度均为1，所以此时k = 1，k=2，k=3这三种情况均输出1。特此说明，避免歧义。\n",
    "\"\"\""
   ]
  },
  {
   "cell_type": "code",
   "execution_count": 1,
   "metadata": {},
   "outputs": [],
   "source": [
    "s = input()"
   ]
  },
  {
   "cell_type": "code",
   "execution_count": 19,
   "metadata": {},
   "outputs": [],
   "source": [
    "k = int(input())"
   ]
  },
  {
   "cell_type": "code",
   "execution_count": 20,
   "metadata": {},
   "outputs": [
    {
     "data": {
      "text/plain": [
       "('AAAAHHHBBCDHHHH', 9)"
      ]
     },
     "execution_count": 20,
     "metadata": {},
     "output_type": "execute_result"
    }
   ],
   "source": [
    "s, k"
   ]
  },
  {
   "cell_type": "code",
   "execution_count": 21,
   "metadata": {},
   "outputs": [],
   "source": [
    "def main(s, k):\n",
    "    sl = list(s)\n",
    "    sl.sort()\n",
    "    count = {}\n",
    "    for i in sl:\n",
    "        if i not in count:\n",
    "            count[i] = 1\n",
    "        else:\n",
    "            count[i] += 1\n",
    "    count_sorted = sorted(count.items(), key=lambda x : x[-1], reverse=True)\n",
    "    if k > len(count_sorted):\n",
    "        return -1\n",
    "    return count_sorted[k-1][-1]\n",
    "    print(count_sorted)\n",
    "    "
   ]
  },
  {
   "cell_type": "code",
   "execution_count": 22,
   "metadata": {},
   "outputs": [
    {
     "data": {
      "text/plain": [
       "-1"
      ]
     },
     "execution_count": 22,
     "metadata": {},
     "output_type": "execute_result"
    }
   ],
   "source": [
    "main(s, k)"
   ]
  },
  {
   "cell_type": "code",
   "execution_count": null,
   "metadata": {},
   "outputs": [],
   "source": []
  }
 ],
 "metadata": {
  "kernelspec": {
   "display_name": "base",
   "language": "python",
   "name": "python3"
  },
  "language_info": {
   "codemirror_mode": {
    "name": "ipython",
    "version": 3
   },
   "file_extension": ".py",
   "mimetype": "text/x-python",
   "name": "python",
   "nbconvert_exporter": "python",
   "pygments_lexer": "ipython3",
   "version": "3.9.7"
  }
 },
 "nbformat": 4,
 "nbformat_minor": 2
}
