{
 "cells": [
  {
   "cell_type": "code",
   "execution_count": null,
   "metadata": {},
   "outputs": [],
   "source": [
    "\"\"\"\n",
    "题目描述\n",
    "某个产品当前迭代周期内有 N 个特性（F1,F2,......FN）需要进行覆盖测试，每个特性都被评估了对应的优先级，特性使用其 ID 作为下标进行标识。\n",
    "\n",
    "设计了 M 个测试用例（T1,T2,......,TM），每个测试用例对应一个覆盖特性的集合，测试用例使用其 ID 作为下标进行标识，测试用例的优先级定义为其覆盖的特性的优先级之和。\n",
    "\n",
    "在开展测试之前，需要制定测试用例的执行顺序，规则为：优先级大的用例先执行，如果存在优先级相同的用例，用例 ID 小的先执行。\n",
    "\n",
    "输入描述\n",
    "第一行输入为 N 和 M，\n",
    "\n",
    "N 表示特性的数量，0 < N ≤ 100\n",
    "M 表示测试用例的数量，0 < M ≤ 100\n",
    "之后 N 行表示特性 ID=1 到特性 ID=N 的优先级，\n",
    "\n",
    "再接下来 M 行表示测试用例 ID=1 到测试用例 ID=M 关联的特性的 ID 的列表。\n",
    "\n",
    "输出描述\n",
    "按照执行顺序（优先级从大到小）输出测试用例的 ID，每行一个ID。\n",
    "\n",
    "测试用例覆盖的 ID 不重复。\n",
    "\n",
    "用例1\n",
    "输入\n",
    "5 4\n",
    "1\n",
    "1\n",
    "2\n",
    "3\n",
    "5\n",
    "1 2 3\n",
    "1 4\n",
    "3 4 5\n",
    "2 3 4\n",
    "输出\n",
    "3\n",
    "4\n",
    "1\n",
    "2\n",
    "\"\"\""
   ]
  },
  {
   "cell_type": "code",
   "execution_count": 1,
   "metadata": {},
   "outputs": [],
   "source": [
    "# 输入特性数量N 测试用例数量M\n",
    "N, M = map(int, input().split(' '))\n",
    "# 输入N行 特征 的优先级\n",
    "priority = []\n",
    "for _ in range(N):\n",
    "    priority.append(int(input()))\n",
    "# 输入M行 测试用例\n",
    "test = []\n",
    "for _ in range(M):\n",
    "    test.append(input().split(' '))"
   ]
  },
  {
   "cell_type": "code",
   "execution_count": 3,
   "metadata": {},
   "outputs": [
    {
     "data": {
      "text/plain": [
       "([1, 1, 2, 3, 5],\n",
       " [['1', '2', '3'], ['1', '4'], ['3', '4', '5'], ['2', '3', '4']])"
      ]
     },
     "execution_count": 3,
     "metadata": {},
     "output_type": "execute_result"
    }
   ],
   "source": [
    "priority, test"
   ]
  },
  {
   "cell_type": "code",
   "execution_count": 8,
   "metadata": {},
   "outputs": [],
   "source": [
    "sum = []\n",
    "for i in test:\n",
    "    temp = 0\n",
    "    for j in i :\n",
    "        temp += priority[int(j) - 1]\n",
    "    sum.append(temp)\n",
    "\n",
    "res = []\n",
    "for idx, v in enumerate(sum):\n",
    "    res.append((idx + 1, v))\n",
    "res = sorted(res, key=lambda x: x[1], reverse=True)\n"
   ]
  },
  {
   "cell_type": "code",
   "execution_count": 10,
   "metadata": {},
   "outputs": [
    {
     "name": "stdout",
     "output_type": "stream",
     "text": [
      "3\n",
      "4\n",
      "1\n",
      "2\n"
     ]
    }
   ],
   "source": [
    "for i in res:\n",
    "    print(i[0])\n"
   ]
  },
  {
   "cell_type": "code",
   "execution_count": null,
   "metadata": {},
   "outputs": [],
   "source": []
  }
 ],
 "metadata": {
  "kernelspec": {
   "display_name": "pp",
   "language": "python",
   "name": "python3"
  },
  "language_info": {
   "codemirror_mode": {
    "name": "ipython",
    "version": 3
   },
   "file_extension": ".py",
   "mimetype": "text/x-python",
   "name": "python",
   "nbconvert_exporter": "python",
   "pygments_lexer": "ipython3",
   "version": "3.8.18"
  }
 },
 "nbformat": 4,
 "nbformat_minor": 2
}
