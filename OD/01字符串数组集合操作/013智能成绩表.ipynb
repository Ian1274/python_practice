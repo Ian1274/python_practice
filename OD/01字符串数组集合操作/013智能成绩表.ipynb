{
 "cells": [
  {
   "cell_type": "code",
   "execution_count": null,
   "metadata": {},
   "outputs": [],
   "source": [
    "\"\"\"\n",
    "题目描述\n",
    "小明来到某学校当老师，需要将学生按考试总分或单科分数进行排名，你能帮帮他吗？\n",
    "\n",
    "输入描述\n",
    "第 1 行输入两个整数，学生人数 n 和科目数量 m。\n",
    "\n",
    "0 < n < 100\n",
    "0 < m < 10\n",
    "第 2 行输入 m 个科目名称，彼此之间用空格隔开。\n",
    "\n",
    "科目名称只由英文字母构成，单个长度不超过10个字符。\n",
    "科目的出现顺序和后续输入的学生成绩一一对应。\n",
    "不会出现重复的科目名称。\n",
    "第 3 行开始的 n 行，每行包含一个学生的姓名和该生 m 个科目的成绩（空格隔开）\n",
    "\n",
    "学生不会重名。\n",
    "学生姓名只由英文字母构成，长度不超过10个字符。\n",
    "成绩是0~100的整数，依次对应第2行种输入的科目。\n",
    "第n+2行，输入用作排名的科目名称。若科目不存在，则按总分进行排序。\n",
    "\n",
    "输出描述\n",
    "输出一行，按成绩排序后的学生名字，空格隔开。成绩相同的按照学生姓名字典顺序排序。\n",
    "\n",
    "用例1\n",
    "输入\n",
    "3 2\n",
    "yuwen shuxue\n",
    "fangfang 95 90\n",
    "xiaohua 88 95\n",
    "minmin 100 82\n",
    "shuxue\n",
    "输出\n",
    "xiaohua fangfang minmin\"\"\""
   ]
  },
  {
   "cell_type": "code",
   "execution_count": 5,
   "metadata": {},
   "outputs": [],
   "source": [
    "# 输入 人数 科目数\n",
    "n_stu, n_km = map(int, input().split(' '))\n",
    "# 输入 科目\n",
    "subjects = input().split(' ')\n",
    "# 输入 学生 成绩\n",
    "stu_scores = []\n",
    "for _ in range(n_stu):\n",
    "    stu_scores.append(input().split(' '))\n",
    "# 查询\n",
    "query = input()\n"
   ]
  },
  {
   "cell_type": "code",
   "execution_count": 10,
   "metadata": {},
   "outputs": [
    {
     "data": {
      "text/plain": [
       "(['yuwen', 'shuxue'],\n",
       " [['fangfang', '95', '90'], ['xiaohua', '88', '95'], ['minmin', '100', '82']],\n",
       " 'shuxue')"
      ]
     },
     "execution_count": 10,
     "metadata": {},
     "output_type": "execute_result"
    }
   ],
   "source": [
    "subjects, stu_scores, query"
   ]
  },
  {
   "cell_type": "code",
   "execution_count": 27,
   "metadata": {},
   "outputs": [],
   "source": [
    "# 查询 在 科目里面\n",
    "def getResult(subjects, stu_scores, query):\n",
    "    if query in subjects:\n",
    "        temp = stu_scores.copy()\n",
    "        query_index = None\n",
    "        for index, i in enumerate(subjects):\n",
    "            if query == i:\n",
    "                query_index = index + 1\n",
    "        temp = sorted(temp, key=lambda x: int(x[query_index]), reverse=True)\n",
    "        \n",
    "        res = ' '.join([i[0] for i in temp])\n",
    "        \n",
    "        return res\n",
    "\n",
    "    else:\n",
    "        temp = stu_scores.copy()\n",
    "        temp = sorted(temp, key=lambda x: (int(x[query_index]) + int(x[query_index + 1])), reverse=True)\n",
    "        res = ' '.join([i[0] for i in temp])\n",
    "        return res\n",
    "\n"
   ]
  },
  {
   "cell_type": "code",
   "execution_count": 28,
   "metadata": {},
   "outputs": [
    {
     "data": {
      "text/plain": [
       "'xiaohua fangfang minmin'"
      ]
     },
     "execution_count": 28,
     "metadata": {},
     "output_type": "execute_result"
    }
   ],
   "source": [
    "getResult(subjects, stu_scores, query)"
   ]
  },
  {
   "cell_type": "code",
   "execution_count": null,
   "metadata": {},
   "outputs": [],
   "source": []
  }
 ],
 "metadata": {
  "kernelspec": {
   "display_name": "pp",
   "language": "python",
   "name": "python3"
  },
  "language_info": {
   "codemirror_mode": {
    "name": "ipython",
    "version": 3
   },
   "file_extension": ".py",
   "mimetype": "text/x-python",
   "name": "python",
   "nbconvert_exporter": "python",
   "pygments_lexer": "ipython3",
   "version": "3.8.18"
  }
 },
 "nbformat": 4,
 "nbformat_minor": 2
}
