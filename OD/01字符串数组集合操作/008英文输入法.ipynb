{
 "cells": [
  {
   "cell_type": "code",
   "execution_count": null,
   "metadata": {},
   "outputs": [],
   "source": [
    "\"\"\"\n",
    "题目描述\n",
    "主管期望你来实现英文输入法单词联想功能。\n",
    "\n",
    "需求如下：\n",
    "\n",
    "依据用户输入的单词前缀，从已输入的英文语句中联想出用户想输入的单词，按字典序输出联想到的单词序列，\n",
    "如果联想不到，请输出用户输入的单词前缀。\n",
    "注意：\n",
    "\n",
    "英文单词联想时，区分大小写\n",
    "缩略形式如”don’t”，判定为两个单词，”don”和”t”\n",
    "输出的单词序列，不能有重复单词，且只能是英文单词，不能有标点符号\n",
    "输入描述\n",
    "输入为两行。\n",
    "\n",
    "首行输入一段由英文单词word和标点符号组成的语句str；\n",
    "\n",
    "接下来一行为一个英文单词前缀pre。\n",
    "\n",
    "0 < word.length() <= 20\n",
    "0 < str.length <= 10000\n",
    "0 < pre <= 20\n",
    "输出描述\n",
    "输出符合要求的单词序列或单词前缀，存在多个时，单词之间以单个空格分割\n",
    "\n",
    "用例1\n",
    "输入\n",
    "I love you\n",
    "He\n",
    "输出\n",
    "He\n",
    "说明\n",
    "从用户已输入英文语句”I love you”中提炼出“I”、“love”、“you”三个单词，接下来用户输入“He”，\n",
    "\n",
    "从已输入信息中无法联想到任何符合要求的单词，因此输出用户输入的单词前缀。\n",
    "\n",
    "用例2\n",
    "输入\n",
    "The furthest distance in the world, Is not between life and death, But when I stand in front of you, Yet you don't know that I love you.\n",
    "f\n",
    "输出\n",
    "front furthest\n",
    "说明\n",
    "从用户已输入英文语句”The furthestdistance in the world, Is not between life and death, But when I stand in frontof you, Yet you dont know that I love you.”中提炼出的单词，符合“f”作为前缀的，有“furthest”和“front”，按字典序排序并在单词间添加空格后输出，结果为“front furthest”\n",
    "\"\"\""
   ]
  },
  {
   "cell_type": "code",
   "execution_count": null,
   "metadata": {},
   "outputs": [],
   "source": [
    "import re"
   ]
  },
  {
   "cell_type": "code",
   "execution_count": null,
   "metadata": {},
   "outputs": [],
   "source": [
    "sentence = input()\n",
    "query = input()"
   ]
  },
  {
   "cell_type": "code",
   "execution_count": null,
   "metadata": {},
   "outputs": [],
   "source": [
    "sentence, query"
   ]
  },
  {
   "cell_type": "code",
   "execution_count": 19,
   "metadata": {},
   "outputs": [],
   "source": [
    "def main(sentence, query):\n",
    "    # re.split 可以使用正则化表达\n",
    "    temp = re.split(\"[^a-zA-Z]\", sentence)\n",
    "    # set 一个集合 不能包括重复元素\n",
    "    cache = list(set(temp))\n",
    "    cache.sort()\n",
    "    cache = list(filter(lambda x:x.startswith(query), cache))\n",
    "    if len(cache) > 0:\n",
    "        return ' '.join(cache)\n",
    "    else:\n",
    "        return query"
   ]
  },
  {
   "cell_type": "code",
   "execution_count": 21,
   "metadata": {},
   "outputs": [],
   "source": [
    "res = main(sentence, query)"
   ]
  },
  {
   "cell_type": "code",
   "execution_count": 22,
   "metadata": {},
   "outputs": [
    {
     "data": {
      "text/plain": [
       "'front furthest'"
      ]
     },
     "execution_count": 22,
     "metadata": {},
     "output_type": "execute_result"
    }
   ],
   "source": [
    "res"
   ]
  },
  {
   "cell_type": "code",
   "execution_count": null,
   "metadata": {},
   "outputs": [],
   "source": []
  }
 ],
 "metadata": {
  "kernelspec": {
   "display_name": "pp",
   "language": "python",
   "name": "python3"
  },
  "language_info": {
   "codemirror_mode": {
    "name": "ipython",
    "version": 3
   },
   "file_extension": ".py",
   "mimetype": "text/x-python",
   "name": "python",
   "nbconvert_exporter": "python",
   "pygments_lexer": "ipython3",
   "version": "3.8.18"
  }
 },
 "nbformat": 4,
 "nbformat_minor": 2
}
