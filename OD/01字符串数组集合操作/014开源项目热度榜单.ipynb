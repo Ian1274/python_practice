{
 "cells": [
  {
   "cell_type": "code",
   "execution_count": 3,
   "metadata": {},
   "outputs": [
    {
     "data": {
      "text/plain": [
       "\"\\n题目描述\\n某个开源社区希望将最近热度比较高的开源项目出一个榜单，推荐给社区里面的开发者。\\n\\n对于每个开源项目，开发者可以进行关注（watch）、收藏（star）、fork、提issue、提交合并请求（MR）等。\\n\\n数据库里面统计了每个开源项目关注、收藏、fork、issue、MR的数量，开源项目的热度根据这5个维度的加权求和进行排序。\\n\\nH = W(watch) x #watch + W(star) x #star + W(fork) x #fork + W(issue) x #issue + W(mr) x #mr\\n\\nH 表示热度值\\nW(watch)、W(star)、W(fork)、W(issue)、W(mr) 分别表示5个统计维度的权重\\n#watch、#star、#fork、#issue、#mr 分别表示5个统计维度的统计值\\n榜单按照热度值降序排序，对于热度值相等的，按照项目名字转换为全小写字母后的字典序排序（'a','b','c',...,'x','y','z'）。\\n\\n输入描述\\n第一行输入为N，表示开源项目的个数，0 ＜ N ＜100。\\n\\n第二行输入为权重值列表，一共 5 个整型值，分别对应关注、收藏、fork、issue、MR的权重，权重取值 0 < W ≤ 50。\\n\\n第三行开始接下来的 N 行为开源项目的统计维度，每一行的格式为：\\n\\nname nr_watch nr_start nr_fork nr_issue nr_mr\\n\\n其中 name 为开源项目的名字，由英文字母组成，长度 ≤ 50，其余 5 个整型值分别为该开源项目关注、收藏、fork、issue、MR的数量，数量取值 0 < nr ≤ 1000。\\n\\n输出描述\\n按照热度降序，输出开源项目的名字，对于热度值相等的，按照项目名字转换为全小写后的字典序排序（'a' > 'b' > 'c' > ... > 'x' > 'y' > 'z'）。\\n\\n用例1\\n输入\\n4\\n8 6 2 8 6\\ncamila 66 70 46 158 80\\nvictoria 94 76 86 189 211\\nanthony 29 17 83 21 48\\nemily 53 97 1 19 218\\n输出\\nvictoria\\ncamila\\nemily\\nanthony\\n说明\\n排序热度值计算：\\n\\ncamila：66*8 + 70*6 + 46*2 + 158*8 + 80*6 = 2784\\n\\nvictoria: 94*8 + 76*6 + 86*2 + 189*8 + 211*6 = 4158\\n\\nanthony: 29*8 + 17*6 + 83*2 + 21*8 + 48*6 = 956\\n\\nemily: 53*8 + 97*6 + 1*2 + 19*8 + 218*6 = 2468\\n\\n用例2\\n输入\\n5\\n5 6 6 1 2\\ncamila 13 88 46 26 169\\ngrace 64 38 87 23 103\\nlucas 91 79 98 154 79\\nleo 29 27 36 43 178\\nava 29 27 36 43 178\\n输出\\nlucas\\ngrace\\ncamila\\nava\\nleo\\n说明\\n排序热度值计算：\\n\\ncamila: 13*5 + 88*6 + 46*6 + 26*1 + 169*2 = 1233\\n\\ngrace: 64*5 + 38*6 + 87*6 + 23*1 + 103*2 = 1299\\n\\nlucas: 91*5 + 79*6 + 98*6 + 154*1 + 79*2 = 1829\\n\\nleo: 29*5 + 27*6 + 36*6 + 43*1 + 178*2 = 922\\n\\nava: 29*5 + 27*6 + 36*6 + 43*1 + 178*2 = 922\\n\""
      ]
     },
     "execution_count": 3,
     "metadata": {},
     "output_type": "execute_result"
    }
   ],
   "source": [
    "\"\"\"\n",
    "题目描述\n",
    "某个开源社区希望将最近热度比较高的开源项目出一个榜单，推荐给社区里面的开发者。\n",
    "\n",
    "对于每个开源项目，开发者可以进行关注（watch）、收藏（star）、fork、提issue、提交合并请求（MR）等。\n",
    "\n",
    "数据库里面统计了每个开源项目关注、收藏、fork、issue、MR的数量，开源项目的热度根据这5个维度的加权求和进行排序。\n",
    "\n",
    "H = W(watch) x #watch + W(star) x #star + W(fork) x #fork + W(issue) x #issue + W(mr) x #mr\n",
    "\n",
    "H 表示热度值\n",
    "W(watch)、W(star)、W(fork)、W(issue)、W(mr) 分别表示5个统计维度的权重\n",
    "#watch、#star、#fork、#issue、#mr 分别表示5个统计维度的统计值\n",
    "榜单按照热度值降序排序，对于热度值相等的，按照项目名字转换为全小写字母后的字典序排序（'a','b','c',...,'x','y','z'）。\n",
    "\n",
    "输入描述\n",
    "第一行输入为N，表示开源项目的个数，0 ＜ N ＜100。\n",
    "\n",
    "第二行输入为权重值列表，一共 5 个整型值，分别对应关注、收藏、fork、issue、MR的权重，权重取值 0 < W ≤ 50。\n",
    "\n",
    "第三行开始接下来的 N 行为开源项目的统计维度，每一行的格式为：\n",
    "\n",
    "name nr_watch nr_start nr_fork nr_issue nr_mr\n",
    "\n",
    "其中 name 为开源项目的名字，由英文字母组成，长度 ≤ 50，其余 5 个整型值分别为该开源项目关注、收藏、fork、issue、MR的数量，数量取值 0 < nr ≤ 1000。\n",
    "\n",
    "输出描述\n",
    "按照热度降序，输出开源项目的名字，对于热度值相等的，按照项目名字转换为全小写后的字典序排序（'a' > 'b' > 'c' > ... > 'x' > 'y' > 'z'）。\n",
    "\n",
    "用例1\n",
    "输入\n",
    "4\n",
    "8 6 2 8 6\n",
    "camila 66 70 46 158 80\n",
    "victoria 94 76 86 189 211\n",
    "anthony 29 17 83 21 48\n",
    "emily 53 97 1 19 218\n",
    "输出\n",
    "victoria\n",
    "camila\n",
    "emily\n",
    "anthony\n",
    "说明\n",
    "排序热度值计算：\n",
    "\n",
    "camila：66*8 + 70*6 + 46*2 + 158*8 + 80*6 = 2784\n",
    "\n",
    "victoria: 94*8 + 76*6 + 86*2 + 189*8 + 211*6 = 4158\n",
    "\n",
    "anthony: 29*8 + 17*6 + 83*2 + 21*8 + 48*6 = 956\n",
    "\n",
    "emily: 53*8 + 97*6 + 1*2 + 19*8 + 218*6 = 2468\n",
    "\n",
    "用例2\n",
    "输入\n",
    "5\n",
    "5 6 6 1 2\n",
    "camila 13 88 46 26 169\n",
    "grace 64 38 87 23 103\n",
    "lucas 91 79 98 154 79\n",
    "leo 29 27 36 43 178\n",
    "ava 29 27 36 43 178\n",
    "输出\n",
    "lucas\n",
    "grace\n",
    "camila\n",
    "ava\n",
    "leo\n",
    "说明\n",
    "排序热度值计算：\n",
    "\n",
    "camila: 13*5 + 88*6 + 46*6 + 26*1 + 169*2 = 1233\n",
    "\n",
    "grace: 64*5 + 38*6 + 87*6 + 23*1 + 103*2 = 1299\n",
    "\n",
    "lucas: 91*5 + 79*6 + 98*6 + 154*1 + 79*2 = 1829\n",
    "\n",
    "leo: 29*5 + 27*6 + 36*6 + 43*1 + 178*2 = 922\n",
    "\n",
    "ava: 29*5 + 27*6 + 36*6 + 43*1 + 178*2 = 922\n",
    "\"\"\""
   ]
  },
  {
   "cell_type": "code",
   "execution_count": 4,
   "metadata": {},
   "outputs": [],
   "source": [
    "# 第一行输入为N，表示开源项目的个数，0 ＜ N ＜100。\n",
    "N = int(input())\n",
    "# 第二行输入为权重值列表，一共 5 个整型值，分别对应关注、收藏、fork、issue、MR的权重，权重取值 0 < W ≤ 50。\n",
    "weights = list(map(int,input().split(' ')))\n",
    "# 第三行开始接下来的 N 行为开源项目的统计维度，每一行的格式为：\n",
    "infos = []\n",
    "for _ in range(N):\n",
    "    infos.append(input().split(' '))\n"
   ]
  },
  {
   "cell_type": "code",
   "execution_count": 5,
   "metadata": {},
   "outputs": [
    {
     "data": {
      "text/plain": [
       "([8, 6, 2, 8, 6],\n",
       " [['camila', '66', '70', '46', '158', '80'],\n",
       "  ['victoria', '94', '76', '86', '189', '211'],\n",
       "  ['anthony', '29', '17', '83', '21', '48'],\n",
       "  ['emily', '53', '97', '1', '19', '218']])"
      ]
     },
     "execution_count": 5,
     "metadata": {},
     "output_type": "execute_result"
    }
   ],
   "source": [
    "weights, infos"
   ]
  },
  {
   "cell_type": "code",
   "execution_count": 16,
   "metadata": {},
   "outputs": [],
   "source": [
    "def main(N, weights, infos):\n",
    "    for i in infos:\n",
    "        i_ws = list(map(int, i[1:]))\n",
    "        outc = 0\n",
    "        for w, wi in zip(weights, i_ws):\n",
    "            outc += w * wi\n",
    "            # print(w, wi, outc)\n",
    "            # break\n",
    "        i.append(outc)\n",
    "    infos = sorted(infos, key=lambda x: (-x[-1], x[0].lower()))\n",
    "    for info in infos:\n",
    "        print(info[0])"
   ]
  },
  {
   "cell_type": "code",
   "execution_count": 17,
   "metadata": {},
   "outputs": [
    {
     "name": "stdout",
     "output_type": "stream",
     "text": [
      "victoria\n",
      "camila\n",
      "emily\n",
      "anthony\n"
     ]
    }
   ],
   "source": [
    "main(N, weights, infos)"
   ]
  },
  {
   "cell_type": "code",
   "execution_count": null,
   "metadata": {},
   "outputs": [],
   "source": []
  }
 ],
 "metadata": {
  "kernelspec": {
   "display_name": "base",
   "language": "python",
   "name": "python3"
  },
  "language_info": {
   "codemirror_mode": {
    "name": "ipython",
    "version": 3
   },
   "file_extension": ".py",
   "mimetype": "text/x-python",
   "name": "python",
   "nbconvert_exporter": "python",
   "pygments_lexer": "ipython3",
   "version": "3.9.7"
  }
 },
 "nbformat": 4,
 "nbformat_minor": 2
}
