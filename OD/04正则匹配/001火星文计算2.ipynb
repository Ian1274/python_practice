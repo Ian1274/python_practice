{
 "cells": [
  {
   "cell_type": "code",
   "execution_count": null,
   "metadata": {},
   "outputs": [],
   "source": [
    "\"\"\"\n",
    "题目描述\n",
    "已知火星人使用的运算符为#、$，其与地球人的等价公式如下：\n",
    "\n",
    "x#y = 4*x+3*y+2\n",
    "x$y = 2*x+y+3\n",
    "其中 x、y 是无符号整数\n",
    "地球人公式按C语言规则计算\n",
    "火星人公式中，#的优先级高于$，相同的运算符，按从左到右的顺序计算\n",
    "现有一段火星人的字符串报文，请你来翻译并计算结果。\n",
    "\n",
    "输入描述\n",
    "火星人字符串表达式（结尾不带回车换行）\n",
    "\n",
    "输入的字符串说明： 字符串为仅由无符号整数和操作符（#、$）组成的计算表达式。例如：\n",
    "\n",
    "123#4$5#67$78\n",
    "\n",
    "用例保证字符串中，操作数与操作符之间没有任何分隔符。\n",
    "\n",
    "用例保证操作数取值范围为32位无符号整数。\n",
    "\n",
    "保证输入以及计算结果不会出现整型溢出。\n",
    "\n",
    "保证输入的字符串为合法的求值报文，例如：123#4$5#67$78\n",
    "\n",
    "保证不会出现非法的求值报文，例如类似这样字符串：\n",
    "\n",
    "#4$5 //缺少操作数\n",
    "\n",
    "4$5# //缺少操作数\n",
    "\n",
    "4#$5 //缺少操作数\n",
    "\n",
    "4 $5 //有空格\n",
    "\n",
    "3+4-5*6/7 //有其它操作符\n",
    "\n",
    "12345678987654321$54321 //32位整数计算溢出\n",
    "\n",
    "输出描述\n",
    "根据输入的火星人字符串输出计算结果（结尾不带回车换行）\n",
    "\n",
    "用例1\n",
    "输入\n",
    "7#6$5#12\n",
    "输出\n",
    "157\n",
    "说明\n",
    "7#6$5#12\n",
    "\n",
    "=(4*7+3*6+2)$5#12\n",
    "\n",
    "=48$5#12\n",
    "\n",
    "=48$(4*5+3*12+2)\n",
    "\n",
    "=48$58\n",
    "\n",
    "=2*48+58+3\n",
    "\n",
    "=157\n",
    "\"\"\""
   ]
  },
  {
   "cell_type": "code",
   "execution_count": 1,
   "metadata": {},
   "outputs": [],
   "source": [
    "import re\n",
    "s = input()"
   ]
  },
  {
   "cell_type": "code",
   "execution_count": 2,
   "metadata": {},
   "outputs": [
    {
     "data": {
      "text/plain": [
       "'7#6$5#12'"
      ]
     },
     "execution_count": 2,
     "metadata": {},
     "output_type": "execute_result"
    }
   ],
   "source": [
    "s"
   ]
  },
  {
   "cell_type": "code",
   "execution_count": 8,
   "metadata": {},
   "outputs": [],
   "source": []
  },
  {
   "cell_type": "code",
   "execution_count": 15,
   "metadata": {},
   "outputs": [],
   "source": [
    "def main(s):\n",
    "    p = re.compile(\"(\\d+)#(\\d+)\")\n",
    "    while True:\n",
    "        m = p.search(s)\n",
    "        if m:\n",
    "            sunbS = m.group()\n",
    "            x = int(m.group(1))\n",
    "            y = int(m.group(2))\n",
    "            s = s.replace(sunbS, str(4*x+3*y+2), 1)\n",
    "        else:\n",
    "            break\n",
    "    arr = list(map(int, s.split('$')))\n",
    "    x = arr[0]\n",
    "    for y in arr[1:]:\n",
    "        x = 2*x + y + 3\n",
    "    return x"
   ]
  },
  {
   "cell_type": "code",
   "execution_count": 17,
   "metadata": {},
   "outputs": [
    {
     "data": {
      "text/plain": [
       "157"
      ]
     },
     "execution_count": 17,
     "metadata": {},
     "output_type": "execute_result"
    }
   ],
   "source": [
    "main(s)"
   ]
  },
  {
   "cell_type": "code",
   "execution_count": 14,
   "metadata": {},
   "outputs": [
    {
     "data": {
      "text/plain": [
       "7"
      ]
     },
     "execution_count": 14,
     "metadata": {},
     "output_type": "execute_result"
    }
   ],
   "source": []
  },
  {
   "cell_type": "code",
   "execution_count": null,
   "metadata": {},
   "outputs": [],
   "source": []
  }
 ],
 "metadata": {
  "kernelspec": {
   "display_name": "pp",
   "language": "python",
   "name": "python3"
  },
  "language_info": {
   "codemirror_mode": {
    "name": "ipython",
    "version": 3
   },
   "file_extension": ".py",
   "mimetype": "text/x-python",
   "name": "python",
   "nbconvert_exporter": "python",
   "pygments_lexer": "ipython3",
   "version": "3.8.18"
  }
 },
 "nbformat": 4,
 "nbformat_minor": 2
}
